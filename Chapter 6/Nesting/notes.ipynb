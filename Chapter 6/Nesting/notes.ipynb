{
 "cells": [
  {
   "cell_type": "markdown",
   "id": "a6cd450b",
   "metadata": {},
   "source": [
    "# List of Dictionaries\n",
    "* Useful when you want to store multiple pieces of information about 1 object/topic (eg. List of dictionaries containing user info)\n",
    "\n",
    "Example:"
   ]
  },
  {
   "cell_type": "code",
   "execution_count": null,
   "id": "5b49e437",
   "metadata": {},
   "outputs": [
    {
     "name": "stdout",
     "output_type": "stream",
     "text": [
      "{'colour': 'green', 'points': 5, 'speed': 'slow'}\n",
      "{'colour': 'green', 'points': 5, 'speed': 'slow'}\n",
      "{'colour': 'green', 'points': 5, 'speed': 'slow'}\n",
      "15\n"
     ]
    }
   ],
   "source": [
    "# Defines an empty list to store all aliens as a dictionary\n",
    "aliens = []\n",
    "\n",
    "# Loop to create 15 aliens to be added to list \n",
    "for temp_aliens in range(15):\n",
    "    new_alien = {\n",
    "        'colour':'green',\n",
    "        'points':5,\n",
    "        'speed':'slow'\n",
    "    }\n",
    "    aliens.append(new_alien)\n",
    "\n",
    "# Test by printing first 3 aliens\n",
    "for alien in aliens[:3]:\n",
    "    print(alien, end='\\n')\n",
    "\n",
    "# Test by printing length of alien dictionary\n",
    "print(len(aliens))\n",
    "    "
   ]
  },
  {
   "cell_type": "markdown",
   "id": "f36726ad",
   "metadata": {},
   "source": [
    "## Using conditional statement to change certain dictionaries in list"
   ]
  },
  {
   "cell_type": "code",
   "execution_count": null,
   "id": "3f76f5a3",
   "metadata": {},
   "outputs": [
    {
     "name": "stdout",
     "output_type": "stream",
     "text": [
      "{'colour': 'red', 'points': 10, 'speed': 'medium'}\n",
      "{'colour': 'red', 'points': 10, 'speed': 'medium'}\n",
      "{'colour': 'red', 'points': 10, 'speed': 'medium'}\n"
     ]
    }
   ],
   "source": [
    "# Defines an empty list to store dictionaries\n",
    "aliens = []\n",
    "\n",
    "# Loop to append 15 dictionaries to list \n",
    "for temp_aliens in range(15):\n",
    "    new_alien = {\n",
    "        'colour':'green',\n",
    "        'points':5,\n",
    "        'speed':'slow'\n",
    "    }\n",
    "    aliens.append(new_alien)\n",
    "\n",
    "# Loop to change first 3 dictionaries\n",
    "for alien in aliens[:3]:\n",
    "    if alien['colour'] == 'green':\n",
    "        alien['colour'] = 'red'\n",
    "        alien['points'] = 10\n",
    "        alien['speed'] = 'medium'\n",
    "\n",
    "# Test by printing first 3 dictionaries\n",
    "for alien in aliens[:3]:\n",
    "    print(alien, end='\\n')"
   ]
  },
  {
   "cell_type": "markdown",
   "id": "7260dfcc",
   "metadata": {},
   "source": [
    "# Nesting a List in a Dictionary"
   ]
  },
  {
   "cell_type": "code",
   "execution_count": null,
   "id": "d1cecef7",
   "metadata": {},
   "outputs": [
    {
     "name": "stdout",
     "output_type": "stream",
     "text": [
      "Hello babus, your crust is thick ;)\n",
      "Your toppings are:\n",
      "\t['anchioves', 'burgers', 'a sprinkle of love']\n"
     ]
    }
   ],
   "source": [
    "\"\"\" A programme that stores information about ordered pizzas\"\"\"\n",
    "\n",
    "# Creates a dictionary with a nested list\n",
    "pizza = {\n",
    "    'crust':'thick',\n",
    "    'toppings': ['anchioves', 'burgers', 'a sprinkle of love']\n",
    "}\n",
    "\n",
    "# Accessing 1 key in dictionary\n",
    "print(f'Hello babus, your crust is {pizza['crust']} ;)')\n",
    "\n",
    "# Accessing nested list in dictionary\n",
    "print(f\"Your toppings are:\\n\"\n",
    "        f\"\\t{[topping for topping in pizza['toppings']]}\")\n"
   ]
  },
  {
   "cell_type": "code",
   "execution_count": null,
   "id": "c1dab34b",
   "metadata": {},
   "outputs": [
    {
     "name": "stdout",
     "output_type": "stream",
     "text": [
      "Hi bella, your favourite language is silly\n"
     ]
    }
   ],
   "source": [
    "\"\"\"A programme to store people's favourite languages\"\"\"\n",
    "\n",
    "# Creates a dictionary with nested lists\n",
    "people = {\n",
    "    'bella' : ['silly'],\n",
    "    'fossie': ['meow', 'mogging'],\n",
    "    'kirby' : ['food', 'pigeons'],\n",
    "}\n",
    "\n",
    "# A loop to go through the keys-value pairs in the dictionary\n",
    "for name, languages in people.items():\n",
    "\n",
    "    for language in languages:\n",
    "        if len(languages) == 1:\n",
    "            print(f\"Hi {name}, your favourite language is {language}\")\n",
    "        else:\n",
    "        "
   ]
  },
  {
   "cell_type": "code",
   "execution_count": null,
   "id": "29edc525",
   "metadata": {},
   "outputs": [],
   "source": []
  }
 ],
 "metadata": {
  "kernelspec": {
   "display_name": "base",
   "language": "python",
   "name": "python3"
  },
  "language_info": {
   "codemirror_mode": {
    "name": "ipython",
    "version": 3
   },
   "file_extension": ".py",
   "mimetype": "text/x-python",
   "name": "python",
   "nbconvert_exporter": "python",
   "pygments_lexer": "ipython3",
   "version": "3.13.5"
  }
 },
 "nbformat": 4,
 "nbformat_minor": 5
}
