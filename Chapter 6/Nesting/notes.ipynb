{
 "cells": [
  {
   "cell_type": "markdown",
   "id": "a6cd450b",
   "metadata": {},
   "source": [
    "# List of Dictionaries\n",
    "* Useful when you want to store multiple pieces of information about 1 object/topic (eg. List of dictionaries containing user info)\n",
    "\n",
    "Example:"
   ]
  },
  {
   "cell_type": "code",
   "execution_count": null,
   "id": "5b49e437",
   "metadata": {},
   "outputs": [
    {
     "name": "stdout",
     "output_type": "stream",
     "text": [
      "{'colour': 'green', 'points': 5, 'speed': 'slow'}\n",
      "{'colour': 'green', 'points': 5, 'speed': 'slow'}\n",
      "{'colour': 'green', 'points': 5, 'speed': 'slow'}\n",
      "15\n"
     ]
    }
   ],
   "source": [
    "# Defines an empty list to store all aliens as a dictionary\n",
    "aliens = []\n",
    "\n",
    "# Loop to create 15 aliens to be added to list \n",
    "for temp_aliens in range(15):\n",
    "    new_alien = {\n",
    "        'colour':'green',\n",
    "        'points':5,\n",
    "        'speed':'slow'\n",
    "    }\n",
    "    aliens.append(new_alien)\n",
    "\n",
    "# Test by printing first 3 aliens\n",
    "for alien in aliens[:3]:\n",
    "    print(alien, end='\\n')\n",
    "\n",
    "# Test by printing length of alien dictionary\n",
    "print(len(aliens))\n",
    "    "
   ]
  },
  {
   "cell_type": "markdown",
   "id": "f36726ad",
   "metadata": {},
   "source": [
    "## Using conditional statement to change certain dictionaries in list"
   ]
  },
  {
   "cell_type": "code",
   "execution_count": 16,
   "id": "3f76f5a3",
   "metadata": {},
   "outputs": [
    {
     "name": "stdout",
     "output_type": "stream",
     "text": [
      "{'colour': 'red', 'points': 10, 'speed': 'medium'}\n",
      "{'colour': 'red', 'points': 10, 'speed': 'medium'}\n",
      "{'colour': 'red', 'points': 10, 'speed': 'medium'}\n"
     ]
    }
   ],
   "source": [
    "# Defines an empty list to store dictionaries\n",
    "from contextlib import redirect_stderr\n",
    "\n",
    "\n",
    "aliens = []\n",
    "\n",
    "# Loop to append 15 dictionaries to list \n",
    "for temp_aliens in range(15):\n",
    "    new_alien = {\n",
    "        'colour':'green',\n",
    "        'points':5,\n",
    "        'speed':'slow'\n",
    "    }\n",
    "    aliens.append(new_alien)\n",
    "\n",
    "# Loop to change first 3 dictionaries\n",
    "for alien in aliens[:3]:\n",
    "    if alien['colour'] == 'green':\n",
    "        alien['colour'] = 'red'\n",
    "        alien['points'] = 10\n",
    "        alien['speed'] = 'medium'\n",
    "\n",
    "# Test by printing first 3 dictionaries\n",
    "for alien in aliens[:3]:\n",
    "    print(alien, end='\\n')"
   ]
  },
  {
   "cell_type": "code",
   "execution_count": null,
   "id": "7260dfcc",
   "metadata": {},
   "outputs": [],
   "source": []
  }
 ],
 "metadata": {
  "kernelspec": {
   "display_name": "base",
   "language": "python",
   "name": "python3"
  },
  "language_info": {
   "codemirror_mode": {
    "name": "ipython",
    "version": 3
   },
   "file_extension": ".py",
   "mimetype": "text/x-python",
   "name": "python",
   "nbconvert_exporter": "python",
   "pygments_lexer": "ipython3",
   "version": "3.13.5"
  }
 },
 "nbformat": 4,
 "nbformat_minor": 5
}
