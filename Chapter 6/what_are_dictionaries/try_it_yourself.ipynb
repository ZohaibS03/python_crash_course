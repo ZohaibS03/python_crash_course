{
 "cells": [
  {
   "cell_type": "markdown",
   "id": "8b754baa",
   "metadata": {},
   "source": [
    "# 6-1 \n",
    "Dictonary to store info about a person. Store first name, last name, age and city of residence. Clear keys for each value. Print each piece of information"
   ]
  },
  {
   "cell_type": "code",
   "execution_count": 6,
   "id": "1209b16e",
   "metadata": {},
   "outputs": [
    {
     "name": "stdout",
     "output_type": "stream",
     "text": [
      "My GF's name is Isabella Haynes. She is 21 years old and lives in London.\n"
     ]
    }
   ],
   "source": [
    "girlfriend = {'first_name':'isabella', 'last_name':'haynes', 'age':21, 'city':'london'}\n",
    "print(f\"My GF's name is {girlfriend['first_name'].title()} {girlfriend['last_name'].title()}. She is {girlfriend['age']} years old and lives in {girlfriend['city'].title()}.\")"
   ]
  },
  {
   "cell_type": "markdown",
   "id": "beb4d734",
   "metadata": {},
   "source": [
    "# 6-2\n",
    "Dictionary to store 5 people's favoruite numbers"
   ]
  },
  {
   "cell_type": "code",
   "execution_count": 4,
   "id": "56ce37aa",
   "metadata": {},
   "outputs": [
    {
     "name": "stdout",
     "output_type": "stream",
     "text": [
      "Max's favourite number: 5\n",
      "Zohaib's favourite number: 10\n"
     ]
    }
   ],
   "source": [
    "favourite_numbers = {\n",
    "    'max':5,\n",
    "    'zohaib':10,\n",
    "    'bob':40,\n",
    "    'james':2,\n",
    "    'trevor':9,\n",
    "}\n",
    "\n",
    "print(f\"Max's favourite number: {favourite_numbers['max']}\\nZohaib's favourite number: {favourite_numbers['zohaib']}\")"
   ]
  },
  {
   "cell_type": "markdown",
   "id": "aa89ec58",
   "metadata": {},
   "source": []
  }
 ],
 "metadata": {
  "kernelspec": {
   "display_name": "base",
   "language": "python",
   "name": "python3"
  },
  "language_info": {
   "codemirror_mode": {
    "name": "ipython",
    "version": 3
   },
   "file_extension": ".py",
   "mimetype": "text/x-python",
   "name": "python",
   "nbconvert_exporter": "python",
   "pygments_lexer": "ipython3",
   "version": "3.13.5"
  }
 },
 "nbformat": 4,
 "nbformat_minor": 5
}
