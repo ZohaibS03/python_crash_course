{
 "cells": [
  {
   "cell_type": "markdown",
   "id": "b4293752",
   "metadata": {},
   "source": [
    "# What is a dictionary:\n",
    "* Collection of key-value pairs\n",
    "* Retain order in which they are defined\n",
    "\n",
    "Example:"
   ]
  },
  {
   "cell_type": "code",
   "execution_count": 10,
   "id": "4a581778",
   "metadata": {},
   "outputs": [
    {
     "name": "stdout",
     "output_type": "stream",
     "text": [
      "His name is Zohaib Shahzada\n",
      "His age is 22\n",
      "His height is 183 cm\n"
     ]
    }
   ],
   "source": [
    "user_0 = {'name':'zohaib shahzada', 'age':22, 'height':183, 'sex':'male' }\n",
    "print(f\"His name is {user_0['name'].title()}\")\n",
    "print(f\"His age is {user_0['age']}\")\n",
    "print(f\"His height is {user_0['height']} cm\")"
   ]
  },
  {
   "cell_type": "markdown",
   "id": "46bc3621",
   "metadata": {},
   "source": [
    "# Adding new key-value pairs:\n",
    "* dictionary_name['KEY_TO_BE_ADDED'] = VALUE_TO_BE_ADDED\n",
    "\n",
    "Example:"
   ]
  },
  {
   "cell_type": "code",
   "execution_count": 1,
   "id": "ac34f8b3",
   "metadata": {},
   "outputs": [
    {
     "name": "stdout",
     "output_type": "stream",
     "text": [
      "Alien detials:\n",
      "{'color': 'green', 'points': 5, 'x': 0, 'y': 25}\n"
     ]
    }
   ],
   "source": [
    "alien_0 = {'color':'green', 'points':5}\n",
    "\n",
    "alien_0['x'] = 0\n",
    "alien_0['y'] = 25\n",
    "\n",
    "print(f\"Alien detials:\\n{alien_0}\")"
   ]
  },
  {
   "cell_type": "markdown",
   "id": "6b27d97b",
   "metadata": {},
   "source": [
    "# Changing a key-value pair\n",
    "* Similar to adding new keyvalue pair:\n",
    "    dictionary_name['KEY_TO_BE_CHANGED'] = UPDATED_VALUE\n",
    "\n",
    "Example:"
   ]
  },
  {
   "cell_type": "code",
   "execution_count": null,
   "id": "9a9ca772",
   "metadata": {},
   "outputs": [
    {
     "name": "stdout",
     "output_type": "stream",
     "text": [
      "The current address is:\n",
      "{'city': 'london', 'country': 'uk'}\n",
      "The new address is:\n",
      "{'city': 'london', 'country': 'england'}\n"
     ]
    }
   ],
   "source": [
    "address = {'city':'london', 'country':'uk'}\n",
    "print(f\"The current address is:\\n{address}\")\n",
    "\n",
    "address['country'] = 'england'\n",
    "print(f\"The new address is:\\n{address}\")"
   ]
  },
  {
   "cell_type": "markdown",
   "id": "fc7d839a",
   "metadata": {},
   "source": [
    "# Removing a key-value pair\n",
    "* del DICTIONARY_NAME['KEY_NAME']\n"
   ]
  },
  {
   "cell_type": "code",
   "execution_count": 3,
   "id": "382b79d5",
   "metadata": {},
   "outputs": [
    {
     "name": "stdout",
     "output_type": "stream",
     "text": [
      "Bob's height has been deleted:\n",
      "{'name': 'bob', 'age': 33}\n"
     ]
    }
   ],
   "source": [
    "user_1 = {'name':'bob', 'age':33, 'height':121}\n",
    "del user_1['height']\n",
    "\n",
    "print(f\"Bob's height has been deleted:\\n{user_1}\")"
   ]
  },
  {
   "cell_type": "markdown",
   "id": "01fa3e22",
   "metadata": {},
   "source": [
    "# Using get() to Access Values\n",
    "* Beneficial if you're unsure whether key is in list or not\n",
    "    DICTIONARY_NAME.get(KEY_TO_SEARCH_FOR, VALUE_IF_KEY_NOT_FOUND)"
   ]
  },
  {
   "cell_type": "code",
   "execution_count": 8,
   "id": "c6ac5580",
   "metadata": {},
   "outputs": [
    {
     "name": "stdout",
     "output_type": "stream",
     "text": [
      "Key not in Dictionary\n"
     ]
    }
   ],
   "source": [
    "user_1 = {'name':'bob', 'age':33, 'height':121}\n",
    "print(user_1.get('weight', 'Key not in Dictionary'))"
   ]
  },
  {
   "cell_type": "markdown",
   "id": "106de55f",
   "metadata": {},
   "source": [
    "#"
   ]
  }
 ],
 "metadata": {
  "kernelspec": {
   "display_name": "base",
   "language": "python",
   "name": "python3"
  },
  "language_info": {
   "codemirror_mode": {
    "name": "ipython",
    "version": 3
   },
   "file_extension": ".py",
   "mimetype": "text/x-python",
   "name": "python",
   "nbconvert_exporter": "python",
   "pygments_lexer": "ipython3",
   "version": "3.13.5"
  }
 },
 "nbformat": 4,
 "nbformat_minor": 5
}
