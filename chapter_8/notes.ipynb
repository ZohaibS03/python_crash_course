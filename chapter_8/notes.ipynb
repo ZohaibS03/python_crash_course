{
 "cells": [
  {
   "cell_type": "markdown",
   "id": "a401beba",
   "metadata": {},
   "source": [
    "# Defining a Function"
   ]
  },
  {
   "cell_type": "code",
   "execution_count": 3,
   "id": "b1672023",
   "metadata": {},
   "outputs": [
    {
     "name": "stdout",
     "output_type": "stream",
     "text": [
      "---Markets Closed for the day---\n"
     ]
    }
   ],
   "source": [
    "def market_closure():\n",
    "    \"\"\"Prints a message if markets are closed\"\"\"\n",
    "    print('---Markets Closed for the day---')\n",
    "\n",
    "market_closure()"
   ]
  },
  {
   "cell_type": "markdown",
   "id": "87498870",
   "metadata": {},
   "source": [
    "# Passing Information to a Function\n",
    "* Infomration passed is argument\n",
    "* Information being required is parameter"
   ]
  },
  {
   "cell_type": "code",
   "execution_count": 4,
   "id": "0a3accc2",
   "metadata": {},
   "outputs": [
    {
     "name": "stdout",
     "output_type": "stream",
     "text": [
      "---Markets Closed for the day---\n",
      "We completed 1204 sales, congratulations!\n"
     ]
    }
   ],
   "source": [
    "def market_closure(sales_completed):\n",
    "    \"\"\"Prints a message if markets are closed and sales completed\"\"\"\n",
    "    print('---Markets Closed for the day---')\n",
    "    print(f'We completed {sales_completed} sales, congratulations!')\n",
    "\n",
    "market_closure(1204)"
   ]
  },
  {
   "cell_type": "markdown",
   "id": "9251b999",
   "metadata": {},
   "source": [
    "# Positional Arguments\n",
    "* Multiple arguments should be passed in the order that they are defined in \n",
    "    the original function. ORDER MATTERS!\n",
    "* Called positional arguments."
   ]
  },
  {
   "cell_type": "code",
   "execution_count": 5,
   "id": "c1235ff8",
   "metadata": {},
   "outputs": [
    {
     "name": "stdout",
     "output_type": "stream",
     "text": [
      "Hi, my name is Zohaib and I am a Student/Support Worker!\n"
     ]
    }
   ],
   "source": [
    "def professional_status(name, occupation):\n",
    "    \"\"\"Takes positional argument of name and occupation as positional \n",
    "        arguments and then prints them\"\"\"\n",
    "    print(f'Hi, my name is {name} and I am a {occupation}!')\n",
    "\n",
    "professional_status('Zohaib', 'Student/Support Worker')"
   ]
  },
  {
   "cell_type": "markdown",
   "id": "ebb78586",
   "metadata": {},
   "source": [
    "# Multiple Function Calls\n",
    "* Highlights a function's ability to be reused as many times as needed"
   ]
  },
  {
   "cell_type": "code",
   "execution_count": 6,
   "id": "97a365f2",
   "metadata": {},
   "outputs": [
    {
     "name": "stdout",
     "output_type": "stream",
     "text": [
      "Hi, my name is Zohaib and I am a Student/Support Worker!\n",
      "Hi, my name is Isabella and I am a Vice President!\n"
     ]
    }
   ],
   "source": [
    "def professional_status(name, occupation):\n",
    "    \"\"\"Takes positional argument of name and occupation as positional \n",
    "        arguments and then prints them\"\"\"\n",
    "    print(f'Hi, my name is {name} and I am a {occupation}!')\n",
    "\n",
    "professional_status('Zohaib', 'Student/Support Worker')\n",
    "professional_status('Isabella', 'Vice President')"
   ]
  },
  {
   "cell_type": "markdown",
   "id": "6bbc9e39",
   "metadata": {},
   "source": [
    "# Keyword Arguments\n",
    "* In funciton call, associate argument with relevent parameter\n",
    "* Even if argument order is wrong, they get patched up accurately\n",
    "\n",
    "**Mistake Made:**\n",
    "* Argument in functional call must be without quotes"
   ]
  },
  {
   "cell_type": "code",
   "execution_count": 7,
   "id": "683b6c94",
   "metadata": {},
   "outputs": [
    {
     "name": "stdout",
     "output_type": "stream",
     "text": [
      "Hi, my name is zohaib and I am a student/support worker!\n",
      "Hi, my name is isabella and I am a vice president!\n"
     ]
    }
   ],
   "source": [
    "def professional_status(name, occupation):\n",
    "    \"\"\"Takes positional argument of name and occupation as positional \n",
    "        arguments and then prints them\"\"\"\n",
    "    print(f'Hi, my name is {name} and I am a {occupation}!')\n",
    "\n",
    "professional_status(name='zohaib', occupation='student/support worker')\n",
    "professional_status(occupation='vice president', name='isabella')"
   ]
  },
  {
   "cell_type": "markdown",
   "id": "4aa6c28b",
   "metadata": {},
   "source": [
    "# Default Values\n",
    "* When definining a function, a default value can be set\n",
    "    * If argument is ommited in call, default value kicks in\n",
    "* Defualt value parameters must be listed after non-defualt value parameters\n",
    "    * This is to process positional arguments correctly, as otherwise Python\n",
    "        wouldn't know whether to replace default value parameter and throw an \n",
    "        error as other parameter isn't given or to assign it to the non-default\n",
    "        value parameter. NEEDS TO BE CLEAR!"
   ]
  },
  {
   "cell_type": "code",
   "execution_count": 8,
   "id": "719e501b",
   "metadata": {},
   "outputs": [
    {
     "name": "stdout",
     "output_type": "stream",
     "text": [
      "Hi, my name is Zohaib and I am a Student/Support Worker!\n",
      "Hi, my name is Isabella and I am a Vice President!\n"
     ]
    }
   ],
   "source": [
    "def professional_status(name, occupation='Student/Support Worker'):\n",
    "    \"\"\"Takes positional argument of name and occupation as positional \n",
    "        arguments and then prints them\"\"\"\n",
    "    print(f'Hi, my name is {name} and I am a {occupation}!')\n",
    "\n",
    "professional_status('Zohaib')\n",
    "professional_status('Isabella', 'Vice President')"
   ]
  },
  {
   "cell_type": "markdown",
   "id": "19d84a21",
   "metadata": {},
   "source": [
    "# Returning a Simple Value"
   ]
  },
  {
   "cell_type": "code",
   "execution_count": null,
   "id": "e7c465f9",
   "metadata": {},
   "outputs": [
    {
     "name": "stdout",
     "output_type": "stream",
     "text": [
      "Zohaib Shahzada\n"
     ]
    }
   ],
   "source": [
    "def get_formatted_name(first, last):\n",
    "    \"\"\"Returns a neatly formatted full-name\"\"\"\n",
    "    return f'{first} {last}'.title()\n",
    "\n",
    "print(get_formatted_name('zohaib', 'shahzada'))"
   ]
  },
  {
   "cell_type": "markdown",
   "id": "1b355fcb",
   "metadata": {},
   "source": [
    "# Making an Argument Optional\n",
    "* Allows function to have many use cases while keeping calls simple\n",
    "* Functions by setting funciton as an empty string default value"
   ]
  },
  {
   "cell_type": "code",
   "execution_count": 1,
   "id": "d9011cf1",
   "metadata": {},
   "outputs": [
    {
     "name": "stdout",
     "output_type": "stream",
     "text": [
      "Zohaib Shahzada\n",
      "James Earl Jones\n"
     ]
    }
   ],
   "source": [
    "def get_formatted_name(first, last, middle=''): # Default value goes last\n",
    "    if middle:\n",
    "        return f'{first} {middle} {last}'.title()\n",
    "    else:\n",
    "        return f'{first} {last}'.title()\n",
    "\n",
    "print(get_formatted_name('zohaib', 'shahzada'))\n",
    "print(get_formatted_name('james', 'jones', 'earl')) # Middle name last to match\n",
    "# parameter position\n",
    "                                                    "
   ]
  },
  {
   "cell_type": "markdown",
   "id": "d4739a3e",
   "metadata": {},
   "source": [
    "# Returning a Dictionary\n",
    "* Arguments passed into a function are formed into a dictionary, which is \n",
    "    then returned"
   ]
  },
  {
   "cell_type": "code",
   "execution_count": null,
   "id": "706ce382",
   "metadata": {},
   "outputs": [
    {
     "name": "stdout",
     "output_type": "stream",
     "text": [
      "{'first_name': 'zohaib', 'last_name': 'shahzada', 'age': 22}\n"
     ]
    }
   ],
   "source": [
    "def build_person(first_name, last_name, age=None): # None means age is optional\n",
    "    \"\"\"Function to store person's information in a dictioanry\"\"\"\n",
    "    person = {'first_name':first_name, 'last_name':last_name}\n",
    "    if age: # If age is provided as argument, then it is appended to dictionary\n",
    "        person['age'] = age\n",
    "    return person\n",
    "\n",
    "print(build_person('zohaib', 'shahzada', 22))\n",
    "    "
   ]
  },
  {
   "cell_type": "code",
   "execution_count": null,
   "id": "d5edfc2c",
   "metadata": {},
   "outputs": [],
   "source": []
  }
 ],
 "metadata": {
  "kernelspec": {
   "display_name": "Python 3",
   "language": "python",
   "name": "python3"
  },
  "language_info": {
   "codemirror_mode": {
    "name": "ipython",
    "version": 3
   },
   "file_extension": ".py",
   "mimetype": "text/x-python",
   "name": "python",
   "nbconvert_exporter": "python",
   "pygments_lexer": "ipython3",
   "version": "3.11.9"
  }
 },
 "nbformat": 4,
 "nbformat_minor": 5
}
