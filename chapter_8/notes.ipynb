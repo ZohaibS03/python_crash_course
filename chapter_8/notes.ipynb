{
 "cells": [
  {
   "cell_type": "markdown",
   "id": "a401beba",
   "metadata": {},
   "source": [
    "# Defining a Function"
   ]
  },
  {
   "cell_type": "code",
   "execution_count": 4,
   "id": "b1672023",
   "metadata": {},
   "outputs": [
    {
     "name": "stdout",
     "output_type": "stream",
     "text": [
      "---Markets Closed for the day---\n"
     ]
    }
   ],
   "source": [
    "def market_closure():\n",
    "    \"\"\"Prints a message if markets are closed\"\"\"\n",
    "    print('---Markets Closed for the day---')\n",
    "\n",
    "market_closure()"
   ]
  },
  {
   "cell_type": "markdown",
   "id": "87498870",
   "metadata": {},
   "source": [
    "# Passing Information to a Function\n",
    "* Infomration passed is argument\n",
    "* Information being required is parameter"
   ]
  },
  {
   "cell_type": "code",
   "execution_count": 5,
   "id": "0a3accc2",
   "metadata": {},
   "outputs": [
    {
     "name": "stdout",
     "output_type": "stream",
     "text": [
      "---Markets Closed for the day---\n",
      "We completed 1204 sales, congratulations!\n"
     ]
    }
   ],
   "source": [
    "def market_closure(sales_completed):\n",
    "    \"\"\"Prints a message if markets are closed and sales completed\"\"\"\n",
    "    print('---Markets Closed for the day---')\n",
    "    print(f'We completed {sales_completed} sales, congratulations!')\n",
    "\n",
    "market_closure(1204)"
   ]
  },
  {
   "cell_type": "markdown",
   "id": "9251b999",
   "metadata": {},
   "source": [
    "# Positional Arguments\n",
    "* Multiple arguments should be passed in the order that they are defined in \n",
    "    the original function. ORDER MATTERS!\n",
    "* Called positional arugments."
   ]
  },
  {
   "cell_type": "code",
   "execution_count": null,
   "id": "c1235ff8",
   "metadata": {},
   "outputs": [
    {
     "name": "stdout",
     "output_type": "stream",
     "text": [
      "Hi, my name is Zohaib and I am a Student/Support Worker!\n"
     ]
    }
   ],
   "source": [
    "def professional_status(name, occupation):\n",
    "    \"\"\"Takes positional argument of name and occupation as positional \n",
    "        arguments and then prints them\"\"\"\n",
    "    print(f'Hi, my name is {name} and I am a {occupation}!')\n",
    "\n",
    "professional_status('Zohaib', 'Student/Support Worker')"
   ]
  },
  {
   "cell_type": "markdown",
   "id": "ebb78586",
   "metadata": {},
   "source": [
    "# Multiple Function Calls\n",
    "* Highlights a function's ability to be reused as many times as needed"
   ]
  },
  {
   "cell_type": "code",
   "execution_count": 2,
   "id": "97a365f2",
   "metadata": {},
   "outputs": [
    {
     "name": "stdout",
     "output_type": "stream",
     "text": [
      "Hi, my name is Zohaib and I am a Student/Support Worker!\n",
      "Hi, my name is Isabella and I am a Vice President!\n"
     ]
    }
   ],
   "source": [
    "def professional_status(name, occupation):\n",
    "    \"\"\"Takes positional argument of name and occupation as positional \n",
    "        arguments and then prints them\"\"\"\n",
    "    print(f'Hi, my name is {name} and I am a {occupation}!')\n",
    "\n",
    "professional_status('Zohaib', 'Student/Support Worker')\n",
    "professional_status('Isabella', 'Vice President')"
   ]
  },
  {
   "cell_type": "markdown",
   "id": "6bbc9e39",
   "metadata": {},
   "source": [
    "# Keyword Arguments\n",
    "* In funciton call, associate argument with relevent parameter\n",
    "* Even if argument order is wrong, they get patched up accurately\n",
    "\n",
    "**Mistake Made:**\n",
    "* Argument in functional call must be without quotes"
   ]
  },
  {
   "cell_type": "code",
   "execution_count": 3,
   "id": "683b6c94",
   "metadata": {},
   "outputs": [
    {
     "name": "stdout",
     "output_type": "stream",
     "text": [
      "Hi, my name is zohaib and I am a student/support worker!\n",
      "Hi, my name is isabella and I am a vice president!\n"
     ]
    }
   ],
   "source": [
    "def professional_status(name, occupation):\n",
    "    \"\"\"Takes positional argument of name and occupation as positional \n",
    "        arguments and then prints them\"\"\"\n",
    "    print(f'Hi, my name is {name} and I am a {occupation}!')\n",
    "\n",
    "professional_status(name='zohaib', occupation='student/support worker')\n",
    "professional_status(occupation='vice president', name='isabella')"
   ]
  },
  {
   "cell_type": "markdown",
   "id": "4aa6c28b",
   "metadata": {},
   "source": [
    "# Default Values\n",
    "* When definining a function, a default value can be set\n",
    "    * If argument is ommited in call, default value kicks in\n",
    "* Defualt value parameters must be listed after non-defualt value parameters\n",
    "    * This is to process positional arguments correctly, as otherwise Python\n",
    "        wouldn't know whether to replace default value parameter and throw an \n",
    "        error as other parameter isn't given or to assign it to the non-default\n",
    "        value parameter. NEEDS TO BE CLEAR!"
   ]
  },
  {
   "cell_type": "code",
   "execution_count": 7,
   "id": "719e501b",
   "metadata": {},
   "outputs": [
    {
     "name": "stdout",
     "output_type": "stream",
     "text": [
      "Hi, my name is Zohaib and I am a Student/Support Worker!\n",
      "Hi, my name is Isabella and I am a Vice President!\n"
     ]
    }
   ],
   "source": [
    "def professional_status(name, occupation='Student/Support Worker'):\n",
    "    \"\"\"Takes positional argument of name and occupation as positional \n",
    "        arguments and then prints them\"\"\"\n",
    "    print(f'Hi, my name is {name} and I am a {occupation}!')\n",
    "\n",
    "professional_status('Zohaib')\n",
    "professional_status('Isabella', 'Vice President')"
   ]
  },
  {
   "cell_type": "code",
   "execution_count": null,
   "id": "38b5939c",
   "metadata": {},
   "outputs": [],
   "source": []
  }
 ],
 "metadata": {
  "kernelspec": {
   "display_name": "Python 3",
   "language": "python",
   "name": "python3"
  },
  "language_info": {
   "codemirror_mode": {
    "name": "ipython",
    "version": 3
   },
   "file_extension": ".py",
   "mimetype": "text/x-python",
   "name": "python",
   "nbconvert_exporter": "python",
   "pygments_lexer": "ipython3",
   "version": "3.11.9"
  }
 },
 "nbformat": 4,
 "nbformat_minor": 5
}
