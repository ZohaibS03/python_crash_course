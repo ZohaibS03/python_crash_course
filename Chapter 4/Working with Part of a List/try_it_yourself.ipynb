{
 "cells": [
  {
   "cell_type": "markdown",
   "id": "1ff057b3",
   "metadata": {},
   "source": [
    "# 4-10 "
   ]
  },
  {
   "cell_type": "code",
   "execution_count": 5,
   "id": "71d59906",
   "metadata": {},
   "outputs": [
    {
     "name": "stdout",
     "output_type": "stream",
     "text": [
      "The first 3 items in the list are: ['UK', 'USA', 'Pakistan']\n",
      "The items from the middle of the list are: ['Pakistan', 'India', 'Japan']\n",
      "The last 3 items in the list are: ['Japan', 'Australia', 'Indonesia']\n"
     ]
    }
   ],
   "source": [
    "countries = ['UK','USA','Pakistan','India','Japan','Australia','Indonesia']\n",
    "\n",
    "# Printing first 3 items\n",
    "print(f\"The first 3 items in the list are: {countries[:3]}\")\n",
    "\n",
    "# Printing 3 items from the middle\n",
    "print(f\"The items from the middle of the list are: {countries[2:5]}\")\n",
    "\n",
    "# Pringing last 3 items\n",
    "print(f\"The last 3 items in the list are: {countries[-3:]}\")"
   ]
  },
  {
   "cell_type": "markdown",
   "id": "89c6bed7",
   "metadata": {},
   "source": [
    "# 4-11"
   ]
  },
  {
   "cell_type": "code",
   "execution_count": 15,
   "id": "33fea018",
   "metadata": {},
   "outputs": [
    {
     "name": "stdout",
     "output_type": "stream",
     "text": [
      "My favourite pizzas are:\n",
      "Pepperoni\n",
      "Tandoori Chicken\n",
      "Chorizo\n",
      "Spicy Veggie\n",
      "Ham and Pineapple\n",
      "Kebab Pizza\n",
      "\n",
      "My friend's favourite pizzas are:\n",
      "Pepperoni\n",
      "Tandoori Chicken\n",
      "Chorizo\n",
      "Spicy Veggie\n",
      "Ham and Pineapple\n",
      "Ham Pizza\n"
     ]
    }
   ],
   "source": [
    "my_pizzas = ['Pepperoni','Tandoori Chicken','Chorizo','Spicy Veggie','Ham and Pineapple']\n",
    "\n",
    "# Creating a copy of original list\n",
    "friend_pizzas = my_pizzas[:]\n",
    "\n",
    "# Adding item to original list\n",
    "my_pizzas.append('Kebab Pizza')\n",
    "\n",
    "# Adding different item to second list\n",
    "friend_pizzas.append('Ham Pizza')\n",
    "\n",
    "print(f\"My favourite pizzas are:\")\n",
    "for pizza in my_pizzas:\n",
    "    print(pizza, end='\\n')\n",
    "\n",
    "print(f\"\\nMy friend's favourite pizzas are:\")\n",
    "for pizza in friend_pizzas:\n",
    "    print(pizza,end='\\n')\n",
    "\n",
    "\n"
   ]
  },
  {
   "cell_type": "markdown",
   "id": "f2e2bc38",
   "metadata": {},
   "source": [
    "# 4-12"
   ]
  },
  {
   "cell_type": "code",
   "execution_count": null,
   "id": "55fd7beb",
   "metadata": {},
   "outputs": [],
   "source": []
  }
 ],
 "metadata": {
  "kernelspec": {
   "display_name": "base",
   "language": "python",
   "name": "python3"
  },
  "language_info": {
   "codemirror_mode": {
    "name": "ipython",
    "version": 3
   },
   "file_extension": ".py",
   "mimetype": "text/x-python",
   "name": "python",
   "nbconvert_exporter": "python",
   "pygments_lexer": "ipython3",
   "version": "3.13.5"
  }
 },
 "nbformat": 4,
 "nbformat_minor": 5
}
