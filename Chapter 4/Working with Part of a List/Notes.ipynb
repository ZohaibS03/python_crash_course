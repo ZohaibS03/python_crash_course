{
 "cells": [
  {
   "cell_type": "markdown",
   "id": "4b5571cf",
   "metadata": {},
   "source": [
    "# Working with Part of a List"
   ]
  },
  {
   "cell_type": "markdown",
   "id": "dd24db31",
   "metadata": {
    "vscode": {
     "languageId": "plaintext"
    }
   },
   "source": [
    "## Slicing a List\n",
    "* Similar to range index isn't exclusive of the last value"
   ]
  },
  {
   "cell_type": "code",
   "execution_count": 9,
   "id": "85909774",
   "metadata": {},
   "outputs": [
    {
     "name": "stdout",
     "output_type": "stream",
     "text": [
      "['arsenal', 'chelsea', 'brentford', 'swansea']\n",
      "['swansea', 'hull']\n",
      "['chelsea', 'brentford', 'swansea', 'hull']\n",
      "['arsenal', 'chelsea', 'brentford']\n"
     ]
    }
   ],
   "source": [
    "teams = ['arsenal','chelsea','brentford','swansea','hull']\n",
    "\n",
    "# Printing the first 4 teams\n",
    "print(teams[0:4])\n",
    "\n",
    "# Printing the 4th and 5th item\n",
    "print(teams[3:6])\n",
    "\n",
    "# Slicing all items from the second\n",
    "print(teams[1:])\n",
    "\n",
    "# Slicing all items from beginng to a cutoff (3rd)\n",
    "print(teams[:3])"
   ]
  },
  {
   "cell_type": "markdown",
   "id": "3ebb8137",
   "metadata": {},
   "source": [
    "# Looping Through a Slice"
   ]
  },
  {
   "cell_type": "code",
   "execution_count": 23,
   "id": "17391bfc",
   "metadata": {},
   "outputs": [
    {
     "name": "stdout",
     "output_type": "stream",
     "text": [
      "I own a cat\n",
      "I own a dog\n",
      "I own a snake\n",
      "I own a llama\n",
      "I own a hyena\n",
      "I own a groot\n"
     ]
    }
   ],
   "source": [
    "pets = ['cat','dog','snake','llama','hyena','groot']\n",
    "\n",
    "# Looping through first 3 pets\n",
    "for pet in pets[0:3]:\n",
    "    print(f\"I own a {pet}\")\n",
    "\n",
    "# Looping through last 3 values\n",
    "for pet in pets[-3:]:\n",
    "    print(f\"I own a {pet}\")"
   ]
  },
  {
   "cell_type": "markdown",
   "id": "6fe99a90",
   "metadata": {},
   "source": [
    "# Copying a List"
   ]
  },
  {
   "cell_type": "markdown",
   "id": "3b0194da",
   "metadata": {},
   "source": [
    "* Use slices of indices. Saying one list = another list won't make a copy but link the two lists"
   ]
  },
  {
   "cell_type": "code",
   "execution_count": 3,
   "id": "946ac37b",
   "metadata": {},
   "outputs": [
    {
     "name": "stdout",
     "output_type": "stream",
     "text": [
      "The countries I want to visit are:\n",
      "['Japan', 'Pakistan', 'India', 'Russia']\n",
      "\n",
      "The countries my GF wants to visit are:\n",
      "['Japan', 'Pakistan', 'India', 'USA']\n"
     ]
    }
   ],
   "source": [
    "my_countries = ['Japan','Pakistan','India']\n",
    "gf_countries = my_countries[:]\n",
    "\n",
    "# Adding to first list\n",
    "my_countries.append('Russia')\n",
    "\n",
    "# Adding to second list\n",
    "gf_countries.append('USA')\n",
    "\n",
    "print(f\"The countries I want to visit are:\\n{my_countries}\\n\")\n",
    "print(f\"The countries my GF wants to visit are:\\n{gf_countries}\")\n"
   ]
  },
  {
   "cell_type": "code",
   "execution_count": null,
   "id": "cfd93ab2",
   "metadata": {},
   "outputs": [],
   "source": []
  }
 ],
 "metadata": {
  "kernelspec": {
   "display_name": "base",
   "language": "python",
   "name": "python3"
  },
  "language_info": {
   "codemirror_mode": {
    "name": "ipython",
    "version": 3
   },
   "file_extension": ".py",
   "mimetype": "text/x-python",
   "name": "python",
   "nbconvert_exporter": "python",
   "pygments_lexer": "ipython3",
   "version": "3.13.5"
  }
 },
 "nbformat": 4,
 "nbformat_minor": 5
}
