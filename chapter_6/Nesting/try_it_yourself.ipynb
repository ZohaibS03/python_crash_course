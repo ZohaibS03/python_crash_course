{
 "cells": [
  {
   "cell_type": "markdown",
   "id": "3d941006",
   "metadata": {},
   "source": [
    "# 6-7\n",
    "Create a dictionary of different people. each person should then have all their \n",
    "information stored in a dictionary where their name is the key."
   ]
  },
  {
   "cell_type": "code",
   "execution_count": null,
   "id": "eff9147d",
   "metadata": {},
   "outputs": [
    {
     "name": "stdout",
     "output_type": "stream",
     "text": [
      "\n",
      "Hi zohaib. Your fullname is Zohaib  Shahzada!\n",
      "You are 22 and live at BRIGHTON\n",
      "\n",
      "Hi isabella. Your fullname is Isabella  Haynes!\n",
      "You are 21 and live at LONDON\n",
      "\n",
      "Hi fossie. Your fullname is Fossie  Ginger-Buffoon!\n",
      "You are 12 and live at BEL-ITY\n"
     ]
    }
   ],
   "source": [
    "# Creates a main dictionary. Each key has its own dictionary\n",
    "people = {\n",
    "    'zohaib' : {\n",
    "        'first_name' : 'zohaib',\n",
    "        'last_name' : 'shahzada', \n",
    "        'age' : 22,\n",
    "        'city' : 'brighton',\n",
    "    },\n",
    "    'isabella' : {\n",
    "        'first_name' : 'isabella',\n",
    "        'last_name' : 'haynes', \n",
    "        'age' : 21,\n",
    "        'city' : 'london',\n",
    "    },\n",
    "    'fossie' : {\n",
    "        'first_name' : 'fossie',\n",
    "        'last_name' : 'ginger-buffoon', \n",
    "        'age' : 12,\n",
    "        'city' : 'bel-ity',\n",
    "    },\n",
    "}\n",
    "\n",
    "# Loops through main dictionary, assigns 1 varaible to key and 1 variable to its relevent dictionary\n",
    "for person, person_info in people.items():\n",
    "    full_name = f\"{person_info['first_name']}  {person_info['last_name']}\"\n",
    "    print(f\"\\nHi {person}. Your fullname is {full_name.title()}!\")\n",
    "    print(f\"You are {person_info['age']} and live at {person_info['city'].upper()}\")"
   ]
  },
  {
   "cell_type": "markdown",
   "id": "b10b3bb8",
   "metadata": {},
   "source": [
    "# 6-8 "
   ]
  }
 ],
 "metadata": {
  "kernelspec": {
   "display_name": "base",
   "language": "python",
   "name": "python3"
  },
  "language_info": {
   "codemirror_mode": {
    "name": "ipython",
    "version": 3
   },
   "file_extension": ".py",
   "mimetype": "text/x-python",
   "name": "python",
   "nbconvert_exporter": "python",
   "pygments_lexer": "ipython3",
   "version": "3.13.5"
  }
 },
 "nbformat": 4,
 "nbformat_minor": 5
}
