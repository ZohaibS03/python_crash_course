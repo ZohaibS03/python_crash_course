{
 "cells": [
  {
   "cell_type": "markdown",
   "id": "17f0d968",
   "metadata": {},
   "source": [
    "\n",
    "# 6-8\n",
    "Comparing dictionary keys to a list, and performing if statments on certain ones"
   ]
  },
  {
   "cell_type": "code",
   "execution_count": null,
   "id": "a1123da3",
   "metadata": {},
   "outputs": [
    {
     "name": "stdout",
     "output_type": "stream",
     "text": [
      "Hi, james. Thanks for taking our survey :)\n",
      "Hi, zohaib. Thanks for taking our survey :)\n",
      "Hi, bella. You should really consider taking our survey :)\n",
      "Hi, karina. You should really consider taking our survey :)\n"
     ]
    }
   ],
   "source": [
    "favourite_languages = {\n",
    "    'james':'python',\n",
    "    'zohaib':'python',\n",
    "    'bella':'c++',\n",
    "    'karina':'c#'\n",
    "    }\n",
    "    \n",
    "people_poll = ['james', 'zohaib', 'tracy']\n",
    "\n",
    "for lang_person in favourite_languages:\n",
    "    if lang_person in people_poll:\n",
    "        print(f\"Hi, {lang_person}. Thanks for taking our survey :)\")\n",
    "    else:\n",
    "        print(f\"Hi, {lang_person}. You should really consider taking our survey :)\")"
   ]
  },
  {
   "cell_type": "code",
   "execution_count": null,
   "id": "5a26eae9",
   "metadata": {},
   "outputs": [],
   "source": []
  }
 ],
 "metadata": {
  "kernelspec": {
   "display_name": "base",
   "language": "python",
   "name": "python3"
  },
  "language_info": {
   "codemirror_mode": {
    "name": "ipython",
    "version": 3
   },
   "file_extension": ".py",
   "mimetype": "text/x-python",
   "name": "python",
   "nbconvert_exporter": "python",
   "pygments_lexer": "ipython3",
   "version": "3.13.5"
  }
 },
 "nbformat": 4,
 "nbformat_minor": 5
}
