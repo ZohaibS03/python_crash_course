{
 "cells": [
  {
   "cell_type": "markdown",
   "id": "d08a6e04",
   "metadata": {},
   "source": [
    "# Looping through all key-value pairs\n",
    "Works well if same kind of info is stored, such as names of people and their favourite programming languages\n",
    "\n",
    "Example:"
   ]
  },
  {
   "cell_type": "code",
   "execution_count": 1,
   "id": "8c35b5cb",
   "metadata": {},
   "outputs": [
    {
     "name": "stdout",
     "output_type": "stream",
     "text": [
      "\n",
      "Name: zohaib\n",
      "Language: python\n",
      "\n",
      "Name: bella\n",
      "Language: silly\n",
      "\n",
      "Name: fossie\n",
      "Language: meow\n"
     ]
    }
   ],
   "source": [
    "favourite_languages = {\n",
    "    'zohaib':'python',\n",
    "    'bella':'silly',\n",
    "    'fossie':'meow',\n",
    "}\n",
    "\n",
    "for name, language in favourite_languages.items():\n",
    "    print(f\"\\nName: {name}\\nLanguage: {language}\")"
   ]
  },
  {
   "cell_type": "markdown",
   "id": "5233687b",
   "metadata": {},
   "source": [
    "# Looping through the Keys in a dictionary\n",
    "Similar to looping through key-value pairs but you use .keys() method instead. This is default behaviour, so specifying .keys not necessary.\n",
    "\n",
    "To find a the relevent value for a key:\n",
    "    dictionary_name[KEY_NAME]\n",
    "\n",
    "Example:"
   ]
  },
  {
   "cell_type": "code",
   "execution_count": null,
   "id": "d256dac6",
   "metadata": {},
   "outputs": [
    {
     "name": "stdout",
     "output_type": "stream",
     "text": [
      "Name: Zohaib\n",
      "Name: Bella\n",
      "Name: Fossie\n"
     ]
    }
   ],
   "source": [
    "# Simple loop through keys\n",
    "favourite_languages = {\n",
    "    'zohaib':'python',\n",
    "    'bella':'silly',\n",
    "    'fossie':'meow',\n",
    "}\n",
    "\n",
    "for name in favourite_languages.keys():\n",
    "    print(f\"Name: {name.title()}\")"
   ]
  },
  {
   "cell_type": "code",
   "execution_count": 9,
   "id": "a4f6538c",
   "metadata": {},
   "outputs": [
    {
     "name": "stdout",
     "output_type": "stream",
     "text": [
      "Name: Zohaib. I think your favourite language is PYTHON\n",
      "Name: Bella. I think your favourite language is SILLY\n",
      "Name: Fossie. I think your favourite language is MEOW\n"
     ]
    }
   ],
   "source": [
    "# Loop through keys and accessing relevant value pairs\n",
    "favourite_languages = {\n",
    "    'zohaib':'python',\n",
    "    'bella':'silly',\n",
    "    'fossie':'meow',\n",
    "}\n",
    "\n",
    "for name in favourite_languages.keys():\n",
    "    print(f\"Name: {name.title()}. I think your favourite language is {favourite_languages[name].upper()}\")"
   ]
  },
  {
   "cell_type": "markdown",
   "id": "79255f9b",
   "metadata": {},
   "source": [
    "# Looping through Dictionary keys in particular order\n",
    "Normal loop returns order in which the keys were inserted"
   ]
  },
  {
   "cell_type": "code",
   "execution_count": null,
   "id": "822fdfd2",
   "metadata": {},
   "outputs": [
    {
     "name": "stdout",
     "output_type": "stream",
     "text": [
      "Name: Zohaib. I think your favourite language is PYTHON\n",
      "Name: Fossie. I think your favourite language is MEOW\n",
      "Name: Bella. I think your favourite language is SILLY\n"
     ]
    }
   ],
   "source": [
    "# Loop through keys in particular and accessing relevant value pairs\n",
    "favourite_languages = {\n",
    "    'zohaib':'python',\n",
    "    'bella':'silly',\n",
    "    'fossie':'meow',\n",
    "}\n",
    "\n",
    "# Sorted function here can arrange the order of keys\n",
    "for name in sorted(favourite_languages.keys(), reverse=True):\n",
    "    print(f\"Name: {name.title()}. I think your favourite language is {favourite_languages[name].upper()}\")"
   ]
  },
  {
   "cell_type": "markdown",
   "id": "447a9608",
   "metadata": {},
   "source": [
    "# Looping through Values in a dictionary\n",
    "Similar to looping through keys, '.values()' is used. \n",
    "\n",
    "If multiple values are the same and you want to group them, you can use set() \n",
    "\n",
    "Examples:"
   ]
  },
  {
   "cell_type": "code",
   "execution_count": 16,
   "id": "f504ff9c",
   "metadata": {},
   "outputs": [
    {
     "name": "stdout",
     "output_type": "stream",
     "text": [
      "Language: Silly.\n",
      "Language: Python.\n",
      "Language: Meow.\n"
     ]
    }
   ],
   "source": [
    "# Loop through values in a dictionary\n",
    "favourite_languages = {\n",
    "    'zohaib':'python',\n",
    "    'bella':'silly',\n",
    "    'fossie':'meow',\n",
    "}\n",
    "\n",
    "# Sorted function here can arrange the order of keys\n",
    "for language in sorted(favourite_languages.values(), reverse=True):\n",
    "    print(f\"Language: {language.title()}.\")"
   ]
  },
  {
   "cell_type": "code",
   "execution_count": null,
   "id": "b32a32db",
   "metadata": {},
   "outputs": [
    {
     "name": "stdout",
     "output_type": "stream",
     "text": [
      "Language: Meow.\n",
      "Language: Python.\n",
      "Language: Silly.\n"
     ]
    }
   ],
   "source": [
    "# Loop through values in a dictionary while creating a set\n",
    "favourite_languages = {\n",
    "    'zohaib':'python',\n",
    "    'bella':'silly',\n",
    "    'fossie':'meow',\n",
    "    'kirby':'meow'\n",
    "}\n",
    "\n",
    "# Set function here stops meow being printed twice\n",
    "for language in set(favourite_languages.values()):\n",
    "    print(f\"Language: {language.title()}.\")"
   ]
  },
  {
   "cell_type": "code",
   "execution_count": null,
   "id": "c1013f86",
   "metadata": {},
   "outputs": [],
   "source": []
  }
 ],
 "metadata": {
  "kernelspec": {
   "display_name": "base",
   "language": "python",
   "name": "python3"
  },
  "language_info": {
   "codemirror_mode": {
    "name": "ipython",
    "version": 3
   },
   "file_extension": ".py",
   "mimetype": "text/x-python",
   "name": "python",
   "nbconvert_exporter": "python",
   "pygments_lexer": "ipython3",
   "version": "3.13.5"
  }
 },
 "nbformat": 4,
 "nbformat_minor": 5
}
