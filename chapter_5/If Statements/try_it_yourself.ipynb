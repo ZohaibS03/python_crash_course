{
 "cells": [
  {
   "cell_type": "markdown",
   "id": "44341ac1",
   "metadata": {},
   "source": [
    "# 5-3\n",
    "Need to create two if statements, one that passes and results in an output and one that doesn't pass and results in no output\n"
   ]
  },
  {
   "cell_type": "code",
   "execution_count": 2,
   "id": "e4667ba5",
   "metadata": {},
   "outputs": [
    {
     "name": "stdout",
     "output_type": "stream",
     "text": [
      "You've earned 5 points!\n",
      "Unfortunately you earned no points :(\n"
     ]
    }
   ],
   "source": [
    "alien_colour = 'green'\n",
    "if alien_colour == 'green':\n",
    "    print(\"You've earned 5 points!\")\n",
    "else:\n",
    "    print('Unfortunately you earned no points :(')\n",
    "    \n",
    "alien_colour = 'red'\n",
    "if alien_colour == 'green':\n",
    "    print(\"You've earned 5 points!\")\n",
    "else:\n",
    "    print('Unfortunately you earned no points :(')"
   ]
  },
  {
   "cell_type": "markdown",
   "id": "a79333b1",
   "metadata": {},
   "source": [
    "# 5-6\n",
    "if-elif-else chain for various conditions\n"
   ]
  },
  {
   "cell_type": "code",
   "execution_count": 7,
   "id": "f77aafed",
   "metadata": {},
   "outputs": [
    {
     "name": "stdout",
     "output_type": "stream",
     "text": [
      "You are a teenager\n"
     ]
    }
   ],
   "source": [
    "age = 13\n",
    "\n",
    "if age < 2:\n",
    "    print('You are a baby')\n",
    "elif age >= 2 and age < 4:\n",
    "    print('You are a toddler') \n",
    "elif age >= 4 and age < 13:\n",
    "    print('You are a kid')\n",
    "elif age >= 13 and age < 20:\n",
    "    print('You are a teenager')\n",
    "elif age >= 20 and age < 65:\n",
    "    print('You are an adult')\n",
    "else:\n",
    "    print('You are an elder')\n",
    "\n"
   ]
  },
  {
   "cell_type": "code",
   "execution_count": 8,
   "id": "99141e1f",
   "metadata": {},
   "outputs": [
    {
     "name": "stdout",
     "output_type": "stream",
     "text": [
      "WOW you really like kiwis\n",
      "WOW you really like apples\n"
     ]
    }
   ],
   "source": [
    "favourite_fruits = ['kiwi','banana','pear','orange','apple']\n",
    "if 'kiwi' in favourite_fruits:\n",
    "    print('WOW you really like kiwis')\n",
    "if 'apple' in favourite_fruits:\n",
    "    print(\"WOW you really like apples\")"
   ]
  },
  {
   "cell_type": "markdown",
   "id": "32e2de8f",
   "metadata": {},
   "source": [
    "# 5-8\n",
    "Conditional check between two lists"
   ]
  },
  {
   "cell_type": "code",
   "execution_count": 14,
   "id": "885c046b",
   "metadata": {},
   "outputs": [
    {
     "name": "stdout",
     "output_type": "stream",
     "text": [
      "sorry, we don't have a registration for bob\n"
     ]
    }
   ],
   "source": [
    "usernames = ['admin','zohaib','alex','jason']\n",
    "username = 'bob'\n",
    "if username in usernames and username == 'admin':\n",
    "    print(f'hello {username}, would you like to go to the dashboard?')\n",
    "elif username in usernames:\n",
    "    print(f\"thanks for logging in, {username}\")\n",
    "else:\n",
    "    print(f\"sorry, we don't have a registration for {username}\")\n",
    "\n"
   ]
  },
  {
   "cell_type": "markdown",
   "id": "cb466110",
   "metadata": {},
   "source": [
    "# 5-9\n",
    "Checking for empty list"
   ]
  },
  {
   "cell_type": "code",
   "execution_count": 18,
   "id": "25a97717",
   "metadata": {},
   "outputs": [
    {
     "name": "stdout",
     "output_type": "stream",
     "text": [
      "sorry, we don't have any registrations at the moment\n"
     ]
    }
   ],
   "source": [
    "usernames = []\n",
    "username = 'bob'\n",
    "if usernames:\n",
    "    if username in usernames and username == 'admin':\n",
    "        print(f'hello {username}, would you like to go to the dashboard?')\n",
    "    elif username in usernames:\n",
    "        print(f\"thanks for logging in, {username}\")\n",
    "    else:\n",
    "        print(f\"sorry, we don't have a registration for {username}\")\n",
    "else:\n",
    "    print(\"sorry, we don't have any registrations at the moment\")\n"
   ]
  },
  {
   "cell_type": "markdown",
   "id": "52bbf4ed",
   "metadata": {},
   "source": [
    "# 5-9\n",
    "Comparing two lists"
   ]
  },
  {
   "cell_type": "code",
   "execution_count": 20,
   "id": "1b09f9b6",
   "metadata": {},
   "outputs": [
    {
     "name": "stdout",
     "output_type": "stream",
     "text": [
      "Thanks for your registration trevor\n",
      "Thanks for your registration michael\n",
      "Sorry, we already have a user called zoHaiB, please enter another username\n",
      "Thanks for your registration alex\n",
      "Sorry, we already have a user called Bob, please enter another username\n"
     ]
    }
   ],
   "source": [
    "current_users = ['ZohAib','john','bOB','samuel','lucifer']\n",
    "new_users = ['trevor','michael','zoHaiB','alex','Bob']\n",
    "\n",
    "for user in new_users:\n",
    "    if user.lower() in [current_user.lower() for current_user in current_users]:\n",
    "        print(f'Sorry, we already have a user called {user}, please enter another username')\n",
    "    else:\n",
    "        print(f\"Thanks for your registration {user}\")"
   ]
  },
  {
   "cell_type": "code",
   "execution_count": null,
   "id": "0ca21d70",
   "metadata": {},
   "outputs": [],
   "source": []
  }
 ],
 "metadata": {
  "kernelspec": {
   "display_name": "base",
   "language": "python",
   "name": "python3"
  },
  "language_info": {
   "codemirror_mode": {
    "name": "ipython",
    "version": 3
   },
   "file_extension": ".py",
   "mimetype": "text/x-python",
   "name": "python",
   "nbconvert_exporter": "python",
   "pygments_lexer": "ipython3",
   "version": "3.13.5"
  }
 },
 "nbformat": 4,
 "nbformat_minor": 5
}
