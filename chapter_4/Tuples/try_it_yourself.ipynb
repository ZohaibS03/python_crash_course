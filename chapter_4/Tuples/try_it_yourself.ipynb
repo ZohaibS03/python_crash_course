{
 "cells": [
  {
   "cell_type": "markdown",
   "id": "4343eab8",
   "metadata": {},
   "source": [
    "# 5-1"
   ]
  },
  {
   "cell_type": "code",
   "execution_count": null,
   "id": "18365581",
   "metadata": {},
   "outputs": [
    {
     "name": "stdout",
     "output_type": "stream",
     "text": [
      "Is food == 'pizza'? I predict true\n",
      "True\n",
      "Is food == 'kebab'? I predict false\n",
      "False\n"
     ]
    }
   ],
   "source": [
    "food = 'pizza'\n",
    "print(\"Is food == 'pizza'? I predict true\")\n",
    "print(food == 'pizza')\n",
    "\n",
    "print(\"Is food == 'kebab'? I predict false\")\n",
    "print(food == 'kebab')"
   ]
  },
  {
   "cell_type": "markdown",
   "id": "1d0d1b09",
   "metadata": {},
   "source": [
    "# 5-2"
   ]
  },
  {
   "cell_type": "code",
   "execution_count": null,
   "id": "7842119d",
   "metadata": {},
   "outputs": [],
   "source": []
  }
 ],
 "metadata": {
  "kernelspec": {
   "display_name": "base",
   "language": "python",
   "name": "python3"
  },
  "language_info": {
   "codemirror_mode": {
    "name": "ipython",
    "version": 3
   },
   "file_extension": ".py",
   "mimetype": "text/x-python",
   "name": "python",
   "nbconvert_exporter": "python",
   "pygments_lexer": "ipython3",
   "version": "3.13.5"
  }
 },
 "nbformat": 4,
 "nbformat_minor": 5
}
