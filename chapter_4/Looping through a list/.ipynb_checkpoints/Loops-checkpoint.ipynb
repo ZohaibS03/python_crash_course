{
 "cells": [
  {
   "cell_type": "markdown",
   "id": "330b60d7-647a-45ae-a131-15c64f81110e",
   "metadata": {},
   "source": [
    "# TRY IT YOURSELF"
   ]
  },
  {
   "cell_type": "markdown",
   "id": "9b8403a8-2341-4ecb-9359-15172d6f2ac5",
   "metadata": {},
   "source": [
    "## 4-1\n",
    "Looping through a list and then printing something outside it"
   ]
  },
  {
   "cell_type": "code",
   "execution_count": 2,
   "id": "e4e0645c-d2ce-4530-88f4-a74c99cdfa66",
   "metadata": {},
   "outputs": [
    {
     "name": "stdout",
     "output_type": "stream",
     "text": [
      "I like double crust\n",
      "I like thin crust\n",
      "I like stuffed crust\n",
      "I hecking love PIZZA!\n"
     ]
    }
   ],
   "source": [
    "pizzas = ['double crust','thin crust','stuffed crust']\n",
    "for pizza in pizzas:\n",
    "    print(f\"I like {pizza}\")\n",
    "\n",
    "print(\"I hecking love PIZZA!\")"
   ]
  },
  {
   "cell_type": "markdown",
   "id": "201af90b-205f-47b2-978e-b19c9ad61e06",
   "metadata": {},
   "source": [
    "## 4-2\n",
    "Looping through a list and then printing something outside it"
   ]
  },
  {
   "cell_type": "code",
   "execution_count": 4,
   "id": "7a3bdc41-8c76-4ec8-8298-6fed835b5e40",
   "metadata": {},
   "outputs": [
    {
     "name": "stdout",
     "output_type": "stream",
     "text": [
      "I like sharks as it's a fish\n",
      "\n",
      "I like dolphins as it's a fish\n",
      "\n",
      "I like orcas as it's a fish\n",
      "\n",
      "Actually I hate the sea\n"
     ]
    }
   ],
   "source": [
    "animals = ['shark','dolphin','orca']\n",
    "for animal in animals:\n",
    "    print(f\"I like {animal}s as it's a fish\\n\")\n",
    "\n",
    "print(\"Actually I hate the sea\")"
   ]
  },
  {
   "cell_type": "code",
   "execution_count": null,
   "id": "c4dc9ad5-6508-4d52-8d97-05e6c7182c3b",
   "metadata": {},
   "outputs": [],
   "source": []
  }
 ],
 "metadata": {
  "kernelspec": {
   "display_name": "Python [conda env:base] *",
   "language": "python",
   "name": "conda-base-py"
  },
  "language_info": {
   "codemirror_mode": {
    "name": "ipython",
    "version": 3
   },
   "file_extension": ".py",
   "mimetype": "text/x-python",
   "name": "python",
   "nbconvert_exporter": "python",
   "pygments_lexer": "ipython3",
   "version": "3.13.5"
  }
 },
 "nbformat": 4,
 "nbformat_minor": 5
}
