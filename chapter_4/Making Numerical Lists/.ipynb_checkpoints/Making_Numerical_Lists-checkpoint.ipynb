{
 "cells": [
  {
   "cell_type": "markdown",
   "id": "9f4263a9-5649-4ac6-9b55-f5c4699af0b7",
   "metadata": {},
   "source": [
    "# Creating a list of first 10 square numbers"
   ]
  },
  {
   "cell_type": "code",
   "execution_count": 2,
   "id": "3ca45aeb-6e72-4299-9a28-8ff18a04bb94",
   "metadata": {},
   "outputs": [
    {
     "name": "stdout",
     "output_type": "stream",
     "text": [
      "[1, 4, 9, 16, 25, 36, 49, 64, 81, 100]\n"
     ]
    }
   ],
   "source": [
    "squares = []\n",
    "for value in range(1,11):\n",
    "    squares.append(value**2)\n",
    "\n",
    "print(squares)"
   ]
  },
  {
   "cell_type": "code",
   "execution_count": 4,
   "id": "0dbf36a4-f8a5-4c70-aa44-26b04bb32ba6",
   "metadata": {},
   "outputs": [
    {
     "name": "stdout",
     "output_type": "stream",
     "text": [
      "[1, 4, 9, 16, 25, 36, 49, 64, 81, 100]\n"
     ]
    }
   ],
   "source": [
    "squares = [value**2 for value in range(1,11)]\n",
    "print(squares)"
   ]
  },
  {
   "cell_type": "markdown",
   "id": "26fe5bc8-5530-44f6-ba71-716b98a04f57",
   "metadata": {},
   "source": [
    "# TRY IT YOURSELF"
   ]
  },
  {
   "cell_type": "markdown",
   "id": "fb05e4b4-db5f-4883-a020-95dd0e9c84f0",
   "metadata": {},
   "source": [
    "## 4-3"
   ]
  },
  {
   "cell_type": "code",
   "execution_count": 5,
   "id": "b25c26fa-74da-4072-8ff5-5eedc54c4fd6",
   "metadata": {},
   "outputs": [
    {
     "name": "stdout",
     "output_type": "stream",
     "text": [
      "[1, 2, 3, 4, 5, 6, 7, 8, 9, 10, 11, 12, 13, 14, 15, 16, 17, 18, 19, 20]\n"
     ]
    }
   ],
   "source": [
    "# Printing numbers from 1 to 20 inclusive\n",
    "print([value for value in range(1,21)])"
   ]
  },
  {
   "cell_type": "markdown",
   "id": "536ec9ed-0608-4f82-9996-9c88176d9678",
   "metadata": {},
   "source": [
    "## 4-4"
   ]
  },
  {
   "cell_type": "code",
   "execution_count": 6,
   "id": "a2ecceb1-b691-4cac-838e-f38194ff792f",
   "metadata": {},
   "outputs": [
    {
     "name": "stderr",
     "output_type": "stream",
     "text": [
      "IOPub data rate exceeded.\n",
      "The Jupyter server will temporarily stop sending output\n",
      "to the client in order to avoid crashing it.\n",
      "To change this limit, set the config variable\n",
      "`--ServerApp.iopub_data_rate_limit`.\n",
      "\n",
      "Current values:\n",
      "ServerApp.iopub_data_rate_limit=1000000.0 (bytes/sec)\n",
      "ServerApp.rate_limit_window=3.0 (secs)\n",
      "\n"
     ]
    }
   ],
   "source": [
    "print([value for value in range(1,1_000_001)])"
   ]
  },
  {
   "cell_type": "markdown",
   "id": "9d519286-6c57-4e17-af4f-6b3343d3e8e5",
   "metadata": {},
   "source": [
    "## 4-5"
   ]
  },
  {
   "cell_type": "code",
   "execution_count": null,
   "id": "bcdaa92a-fe9d-40c1-b5ef-c21a93216756",
   "metadata": {},
   "outputs": [],
   "source": []
  }
 ],
 "metadata": {
  "kernelspec": {
   "display_name": "Python [conda env:base] *",
   "language": "python",
   "name": "conda-base-py"
  },
  "language_info": {
   "codemirror_mode": {
    "name": "ipython",
    "version": 3
   },
   "file_extension": ".py",
   "mimetype": "text/x-python",
   "name": "python",
   "nbconvert_exporter": "python",
   "pygments_lexer": "ipython3",
   "version": "3.13.5"
  }
 },
 "nbformat": 4,
 "nbformat_minor": 5
}
