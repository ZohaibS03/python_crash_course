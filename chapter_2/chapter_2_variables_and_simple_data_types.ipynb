{
 "cells": [
  {
   "cell_type": "markdown",
   "id": "fb2653b9-067a-4654-9f1c-3f49b34bf017",
   "metadata": {
    "jp-MarkdownHeadingCollapsed": true
   },
   "source": [
    "**Date Started:** [2025-09-16]  \n",
    "**Pomodoro Chunks Used:** [2]  \n",
    "**Overall Rating (1-5):** [5 - Everything that I've covered before]  \n",
    "\n",
    "## 1. Key Takeaways (Theory-First: What I Learned)\n",
    "- Bullet 1: [Core concept, explained in my own words. E.g., \"Lists are mutable sequences—like arrays for stock price histories. Why? Because I can append new prices without recreating the whole list.\"]\n",
    "- Bullet 2: [Another one, with a quick analogy. Tie to math/finance if relevant: \"Dictionaries as key-value pairs? Like mapping strike prices to premiums—fast lookups for option chains.\"]\n",
    "- [Aim for 3-5 bullets. Focus on \"explain it clearly\": Imagine teaching a non-coder friend.]\n",
    "\n",
    "## 2. Hands-On Practice (Apply Practically)\n",
    "- Exercise Wins: [What went well? E.g., \"Built a simple function to calculate list averages—tested with fake spot prices [S=100,110]. Output: mean=105.\"]\n",
    "  - Code Snippet: [Paste/run a small code cell here, e.g., \n",
    "    ```python\n",
    "    prices = [100, 110]\n",
    "    avg = sum(prices) / len(prices)\n",
    "    print(avg)  # 105.0\n",
    "    ```]\n",
    "- Challenges Faced: [What was tricky? E.g., \"Index errors when slicing lists—reminds me to validate inputs like expiration dates.\"]\n",
    "\n",
    "## 3. Debugging Insights (Debug Effectively)\n",
    "- Bug Hunt: [One error you fixed, and how. E.g., \"Forgot to indent in a for loop—fixed by checking PEP8 style. Lesson: Indentation errors crash like unhandled NaNs in vol calcs.\"]\n",
    "- Pro Tip Gained: [E.g., \"Use `print()` liberally during dev—great for tracing payoff logic step-by-step.\"]\n",
    "\n",
    "## 4. Connection to Goals (Interview-Ready Reflection)\n",
    "- How This Builds the Platform: [E.g., \"Classes from Ch. 9 will structure my Option class—methods for payoff, price. Explains delta as a class attribute?\"]\n",
    "- One \"Explain Clearly\" Soundbite: [Short phrase for interviews. E.g., \"Python's dynamic typing means no declaring types upfront—like assuming log returns before computing std dev.\"]\n",
    "\n",
    "## Next Steps\n",
    "- [Post-chapter practice: E.g., \"Build/test a loop for simulating 10 spot prices at expiration.\"]\n",
    "- Open Questions: [E.g., \"How to handle file I/O for saving vol data? Check Ch. 10 next.\"]"
   ]
  },
  {
   "cell_type": "markdown",
   "id": "92f3c26c-e20e-4c80-8a8f-f4f47960ae55",
   "metadata": {
    "jp-MarkdownHeadingCollapsed": true
   },
   "source": [
    "# Importan concepts:\n",
    "* Method - Action that python can perform on a piece of data\n",
    "    * Method should be followed by parantheses "
   ]
  },
  {
   "cell_type": "markdown",
   "id": "d8ab669f-c4cb-4db5-97aa-af08e558a3ac",
   "metadata": {
    "jp-MarkdownHeadingCollapsed": true
   },
   "source": [
    "# Basic hello world file"
   ]
  },
  {
   "cell_type": "code",
   "execution_count": 4,
   "id": "88330a93-471f-439c-a046-af279a8340c4",
   "metadata": {},
   "outputs": [
    {
     "name": "stdout",
     "output_type": "stream",
     "text": [
      "Hello Python world!\n",
      "Hello Python Crash Course world\n"
     ]
    }
   ],
   "source": [
    "message = (\"Hello Python world!\")\n",
    "print(message)\n",
    "\n",
    "message = (\"Hello Python Crash Course world\")\n",
    "print(message)"
   ]
  },
  {
   "cell_type": "markdown",
   "id": "d5719c04-9d47-4521-aa13-f78200cb5a47",
   "metadata": {
    "jp-MarkdownHeadingCollapsed": true
   },
   "source": [
    "# Variable names\n",
    "* name error = variable name not set or spelling mistake when entering variable name\n",
    "* variables are labels for values of data"
   ]
  },
  {
   "cell_type": "code",
   "execution_count": null,
   "id": "54001570-6ae0-4a92-9cc0-15d81493cada",
   "metadata": {},
   "outputs": [],
   "source": [
    "message = \"Hello Python Crash Course reader!\" \n",
    "print(mesage)"
   ]
  },
  {
   "cell_type": "markdown",
   "id": "bb955853-020f-4812-b025-3d3aeb84f07d",
   "metadata": {},
   "source": [
    "## Try it yourself"
   ]
  },
  {
   "cell_type": "markdown",
   "id": "44c643a0-d3de-40a4-b264-011b03d92647",
   "metadata": {},
   "source": [
    "### 2-1\n",
    "* Simple Message: Assign a message to a variable, and then print that message."
   ]
  },
  {
   "cell_type": "code",
   "execution_count": 3,
   "id": "b02c7afa-047e-4e6c-ac2b-3b8e006f0f97",
   "metadata": {},
   "outputs": [
    {
     "name": "stdout",
     "output_type": "stream",
     "text": [
      "I am Ultron!\n"
     ]
    }
   ],
   "source": [
    "message = (\"I am Ultron!\")\n",
    "print(message)"
   ]
  },
  {
   "cell_type": "markdown",
   "id": "895251f4-6a78-46ad-8b92-5b677f5b180b",
   "metadata": {},
   "source": [
    "## 2-2 \n",
    "* Simple Messages: Assign a message to a variable, and print that message. Then change the value of the variable to a new message, and print the new message"
   ]
  },
  {
   "cell_type": "code",
   "execution_count": 1,
   "id": "f592be77-56be-4ebb-866d-fb2a64d3b6c6",
   "metadata": {},
   "outputs": [
    {
     "name": "stdout",
     "output_type": "stream",
     "text": [
      "I am Ultron!\n",
      "NO! I am Vision!\n"
     ]
    }
   ],
   "source": [
    "message = (\"I am Ultron!\")\n",
    "print(message)\n",
    "\n",
    "message = (\"NO! I am Vision!\")\n",
    "print(message)"
   ]
  },
  {
   "cell_type": "markdown",
   "id": "44c5bc83-61ff-4f48-92c7-66b618ca9ed9",
   "metadata": {
    "jp-MarkdownHeadingCollapsed": true
   },
   "source": [
    "# Strings\n",
    "* Series of characters\n",
    "* Can use double or single quotes"
   ]
  },
  {
   "cell_type": "markdown",
   "id": "b87994d7-0b3b-41c1-b45a-ecbd474ac742",
   "metadata": {},
   "source": [
    "## Changing case in strings\n",
    "* Changes word to title case (first letter capital)"
   ]
  },
  {
   "cell_type": "code",
   "execution_count": 2,
   "id": "6f3d634c-b50d-44d2-a458-026617e5f650",
   "metadata": {},
   "outputs": [
    {
     "name": "stdout",
     "output_type": "stream",
     "text": [
      "Ada Lovelace\n"
     ]
    }
   ],
   "source": [
    "name = \"ada lovelace\"\n",
    "print(name.title())"
   ]
  },
  {
   "cell_type": "code",
   "execution_count": 4,
   "id": "a28dd887-c1a0-4bcb-b0d9-6f45865ebc8b",
   "metadata": {},
   "outputs": [
    {
     "name": "stdout",
     "output_type": "stream",
     "text": [
      "ADA LOVELACE\n"
     ]
    }
   ],
   "source": [
    "name = \"ada lovelace\"\n",
    "print(name.upper())"
   ]
  },
  {
   "cell_type": "code",
   "execution_count": 3,
   "id": "1c9ffdd8-c7ba-497a-bd3a-fdbb9a37ae90",
   "metadata": {},
   "outputs": [
    {
     "name": "stdout",
     "output_type": "stream",
     "text": [
      "ada lovelace\n"
     ]
    }
   ],
   "source": [
    "name = \"ADA LOVELACE\"\n",
    "print(name.lower())"
   ]
  },
  {
   "cell_type": "markdown",
   "id": "4409353c-b26c-45ca-a92a-2af5b4bbb30b",
   "metadata": {},
   "source": [
    "## Using variables in strings\n",
    "* The f is called f-strings. f stands for format"
   ]
  },
  {
   "cell_type": "code",
   "execution_count": 11,
   "id": "87d5f1b3-4bc2-464c-869b-84e25d894d43",
   "metadata": {},
   "outputs": [
    {
     "name": "stdout",
     "output_type": "stream",
     "text": [
      "Hello, Ada Lovelace!\n"
     ]
    }
   ],
   "source": [
    "first_name = (\"ada\")\n",
    "last_name = (\"lovelace\")\n",
    "full_name = (f\"{first_name} {last_name}\") \n",
    "message = (f\"Hello, {full_name.title()}!\")\n",
    "print(message) "
   ]
  },
  {
   "cell_type": "markdown",
   "id": "e144869a-b62b-4ade-b661-4aeb22e84545",
   "metadata": {},
   "source": [
    "## Adding Whitespace to Strings with Tabs/Newlines\n",
    "* Whitespace = any non-printing character. Tab, newline or end of line symbols\n",
    "* /n = newline\n",
    "* /t = tab"
   ]
  },
  {
   "cell_type": "code",
   "execution_count": 13,
   "id": "e60c4639-1c5e-42b9-b322-fa347dd012cd",
   "metadata": {},
   "outputs": [
    {
     "name": "stdout",
     "output_type": "stream",
     "text": [
      "My favourite stocks:\n",
      "\tTesla\n",
      "\tNvidia\n",
      "\tAmazon\n",
      "\n"
     ]
    }
   ],
   "source": [
    "print(\"My favourite stocks:\\n\\tTesla\\n\\tNvidia\\n\\tAmazon\\n\")"
   ]
  },
  {
   "cell_type": "markdown",
   "id": "88497b63-964a-45e7-9512-c7fb003f4669",
   "metadata": {},
   "source": [
    "## Stripping Whitespace\n",
    "* lstrip() = strip from left side of string\n",
    "* rstrip() = strip from right side of string\n",
    "* strip() = strip from both sides of string\n"
   ]
  },
  {
   "cell_type": "code",
   "execution_count": 17,
   "id": "6f1cf7c9-775d-40e0-9efa-e79f335b5088",
   "metadata": {},
   "outputs": [
    {
     "name": "stdout",
     "output_type": "stream",
     "text": [
      "'Jeff Bezos'     \n",
      "       'Jeff Bezos'\n",
      "'Jeff Bezos'\n"
     ]
    }
   ],
   "source": [
    "name = \"       'Jeff Bezos'     \"\n",
    "print(name.lstrip())\n",
    "print(name.rstrip())\n",
    "print(name.strip())"
   ]
  },
  {
   "cell_type": "markdown",
   "id": "9d7bddce-5faa-47a3-b081-bc46f6d4f34b",
   "metadata": {},
   "source": [
    "## Removing Prefixes\n",
    "* Method is .removeprefix(PREFIX_TO_REMOVE)\n",
    "* Method has to be rassigned to variable or assigned to a new variable"
   ]
  },
  {
   "cell_type": "code",
   "execution_count": 18,
   "id": "6ee1c5ac-a4f1-4334-92c1-9487c959f1ad",
   "metadata": {},
   "outputs": [
    {
     "name": "stdout",
     "output_type": "stream",
     "text": [
      " Zohaib Shahzada\n"
     ]
    }
   ],
   "source": [
    "name_with_title = 'Mr. Zohaib Shahzada'\n",
    "name_without_title = name_with_title.removeprefix('Mr.')\n",
    "print(name_without_title)"
   ]
  },
  {
   "cell_type": "markdown",
   "id": "88ecdcf4-e712-4f05-a5bd-59a32815b9c4",
   "metadata": {},
   "source": [
    "## Avoiding Syntax Errors with Strings\n",
    "* The syntax should match, so '' and \"\""
   ]
  },
  {
   "cell_type": "code",
   "execution_count": 1,
   "id": "7743d018-e982-44f2-9913-d82c2e3c967a",
   "metadata": {},
   "outputs": [
    {
     "name": "stdout",
     "output_type": "stream",
     "text": [
      "One of Python's strengths is its diverse community!\n"
     ]
    }
   ],
   "source": [
    "print(\"One of Python's strengths is its diverse community!\") # The quotation marks are consisten so apostrophe doesn't cause error"
   ]
  },
  {
   "cell_type": "markdown",
   "id": "33397dbb-b32d-45dd-8319-89199293428e",
   "metadata": {},
   "source": [
    "## Try it yourself"
   ]
  },
  {
   "cell_type": "markdown",
   "id": "a13cbe05-e26b-4a7e-8461-7554b801437f",
   "metadata": {},
   "source": [
    "### 2-3\n",
    "Use a variable to represent a person’s name, and print a message to that person. Your message should be simple, such as, “Helo Eric, would you like to learn some Python today?” "
   ]
  },
  {
   "cell_type": "code",
   "execution_count": 3,
   "id": "bb12e767-a03d-423f-ac80-bb7612c0971d",
   "metadata": {},
   "outputs": [
    {
     "name": "stdout",
     "output_type": "stream",
     "text": [
      "Hello Zohaib, would you like to learn about Market Volatility today?\n"
     ]
    }
   ],
   "source": [
    "name = \"Zohaib\"\n",
    "print(f\"Hello {name}, would you like to learn about Market Volatility today?\")"
   ]
  },
  {
   "cell_type": "markdown",
   "id": "fb26c3bf-0493-4c26-a742-2711b21d2d9f",
   "metadata": {},
   "source": [
    "###  2-4\n",
    "Name Cases: Use a variable to represent a person’s name, and then print that person’s name in lowercase, uppercase, and title case."
   ]
  },
  {
   "cell_type": "code",
   "execution_count": 6,
   "id": "3a99bbef-d9ee-4546-923e-836f23b8c43e",
   "metadata": {},
   "outputs": [
    {
     "name": "stdout",
     "output_type": "stream",
     "text": [
      "Lowercase: zohaib shahzada\n",
      "Uppercase: ZOHAIB SHAHZADA\n",
      "Titlecase: Zohaib Shahzada\n",
      "\n"
     ]
    }
   ],
   "source": [
    "name = \"ZohAiB sHaHzaDa\"\n",
    "print(f\"Lowercase: {name.lower()}\\nUppercase: {name.upper()}\\nTitlecase: {name.title()}\\n\")"
   ]
  },
  {
   "cell_type": "markdown",
   "id": "2ae6d35d-13ec-4e0e-b066-9b8282dafc41",
   "metadata": {},
   "source": [
    "###  2-5\n",
    "Famous Quote: Find a quote from a famous person you admire. Print the quote and the name of its author. Your output should look something like the folowing, including the quotation marks: \n",
    "Albert Einstein once said, “A person who never made a mistake never tried anything new.”"
   ]
  },
  {
   "cell_type": "code",
   "execution_count": 12,
   "id": "59c34cfb-df4f-4208-b40c-d40a6a3ff657",
   "metadata": {},
   "outputs": [
    {
     "name": "stdout",
     "output_type": "stream",
     "text": [
      "Patrick Bateman once said, \"Hey, I am a child of divorce. Give me a break!\n"
     ]
    }
   ],
   "source": [
    "print(f'Patrick Bateman once said, \"Hey, I am a child of divorce. Give me a break!')"
   ]
  },
  {
   "cell_type": "markdown",
   "id": "4fb59126-f297-4dbc-ac5e-5465fd6f1a4f",
   "metadata": {},
   "source": [
    "### 2-6\n",
    "Famous Quote 2: Repeat Exercise 2-5, but this time, represent the famous person’s name using a variable caled famous_person. Then compose your message and represent it with a new variable caled message. Print your message."
   ]
  },
  {
   "cell_type": "code",
   "execution_count": 15,
   "id": "66ac7140-9327-48ef-82d1-14cb457513b7",
   "metadata": {},
   "outputs": [
    {
     "name": "stdout",
     "output_type": "stream",
     "text": [
      "Patrick Bateman once said, \"Hey, I am a child of divorce, gimme a break!\"\n"
     ]
    }
   ],
   "source": [
    "famous_person = \"Patrick Bateman\"\n",
    "message = f'Patrick Bateman once said, \"Hey, I am a child of divorce, gimme a break!\"'\n",
    "print(message)"
   ]
  },
  {
   "cell_type": "markdown",
   "id": "07c0a6ce-379f-41fc-8de4-0e5f4692081a",
   "metadata": {},
   "source": [
    "### 2-7\n",
    "Stripping Names: Use a variable to represent a person’s name, and include some whitespace characters at the beginning and end of the name. Make sure you use each character combination, \"\\t\" and \"\\n\", at least once.\n",
    "Print the name once, so the whitespace around the name is displayed. Then print the name using each of the three stripping functions, lstrip(), rstrip(), and strip()"
   ]
  },
  {
   "cell_type": "code",
   "execution_count": 17,
   "id": "4fd3c794-3801-4c3d-86bf-b7ffb35445a6",
   "metadata": {},
   "outputs": [
    {
     "name": "stdout",
     "output_type": "stream",
     "text": [
      "\t\n",
      "Zohaib\t\n",
      "Zohaib\t\n",
      "\t\n",
      "Zohaib\n",
      "Zohaib\n"
     ]
    }
   ],
   "source": [
    "name = \"\\t\\nZohaib\\t\"\n",
    "print(name)\n",
    "print(name.lstrip())\n",
    "print(name.rstrip())\n",
    "print(name.strip())"
   ]
  },
  {
   "cell_type": "markdown",
   "id": "45d95b1c-1199-41bd-a892-a900c6a62d76",
   "metadata": {},
   "source": [
    "###  2-8\n",
    "File Extensions: Python has a removesuffix() method that works exactly like removeprefix(). Assign the value 'python_notes.txt' to a variable caled filename. Then use the removesuffix() method to display the filename without the file extension, like some file browsers do."
   ]
  },
  {
   "cell_type": "code",
   "execution_count": 18,
   "id": "da828af0-3bd8-4beb-b13e-ec71b6e3ad6c",
   "metadata": {},
   "outputs": [
    {
     "name": "stdout",
     "output_type": "stream",
     "text": [
      "python_notes\n"
     ]
    }
   ],
   "source": [
    "filename = 'python_notes.txt'\n",
    "print(filename.removesuffix('.txt'))"
   ]
  },
  {
   "cell_type": "code",
   "execution_count": null,
   "id": "2fd48558-7406-4c97-b34d-bcb7e6916948",
   "metadata": {},
   "outputs": [],
   "source": []
  }
 ],
 "metadata": {
  "kernelspec": {
   "display_name": "Python [conda env:base] *",
   "language": "python",
   "name": "conda-base-py"
  },
  "language_info": {
   "codemirror_mode": {
    "name": "ipython",
    "version": 3
   },
   "file_extension": ".py",
   "mimetype": "text/x-python",
   "name": "python",
   "nbconvert_exporter": "python",
   "pygments_lexer": "ipython3",
   "version": "3.13.5"
  }
 },
 "nbformat": 4,
 "nbformat_minor": 5
}
