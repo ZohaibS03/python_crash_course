{
 "cells": [
  {
   "cell_type": "markdown",
   "id": "fca05dd3-9e34-4182-8575-5ea9245b9ea6",
   "metadata": {
    "jp-MarkdownHeadingCollapsed": true
   },
   "source": [
    "# Intergers"
   ]
  },
  {
   "cell_type": "markdown",
   "id": "bbb3930c-5fc8-4124-a33c-43a5dc393700",
   "metadata": {},
   "source": [
    "* Can perform mathematical operations on them\n",
    "* Two ** represent exponents\n",
    "* Python supports order of operations. You can use brackets to modify order of operations"
   ]
  },
  {
   "cell_type": "code",
   "execution_count": 1,
   "id": "25055354-a021-4ad8-b728-c76e24f306af",
   "metadata": {},
   "outputs": [
    {
     "data": {
      "text/plain": [
       "9"
      ]
     },
     "execution_count": 1,
     "metadata": {},
     "output_type": "execute_result"
    }
   ],
   "source": [
    "3**2"
   ]
  },
  {
   "cell_type": "code",
   "execution_count": 2,
   "id": "9d838061-ef78-4d7f-8568-b334acb0b8c2",
   "metadata": {},
   "outputs": [
    {
     "data": {
      "text/plain": [
       "13"
      ]
     },
     "execution_count": 2,
     "metadata": {},
     "output_type": "execute_result"
    }
   ],
   "source": [
    "4 +    3*3 # Spacing can be used to spot priority operations, has no effect on how Python evaluates expression"
   ]
  },
  {
   "cell_type": "code",
   "execution_count": 4,
   "id": "abe19384-ad99-4798-a328-72de05749a98",
   "metadata": {},
   "outputs": [
    {
     "data": {
      "text/plain": [
       "21"
      ]
     },
     "execution_count": 4,
     "metadata": {},
     "output_type": "execute_result"
    }
   ],
   "source": [
    "(4+3)*3 # Using brackets to specify order of operations"
   ]
  },
  {
   "cell_type": "markdown",
   "id": "703ef643-d474-43e2-8da2-5fcb787ae330",
   "metadata": {
    "jp-MarkdownHeadingCollapsed": true
   },
   "source": [
    "# Floats"
   ]
  },
  {
   "cell_type": "markdown",
   "id": "ba8bc3a8-7ec1-498c-9c92-bc42844c581e",
   "metadata": {},
   "source": [
    "* Any number with a decimal point\n",
    "    * (referring to the fact that decimal can appear at any point in number)\n",
    "*"
   ]
  },
  {
   "cell_type": "code",
   "execution_count": 18,
   "id": "3ff37376-6f92-472b-beea-2f979b1157c2",
   "metadata": {},
   "outputs": [
    {
     "data": {
      "text/plain": [
       "0.2"
      ]
     },
     "execution_count": 18,
     "metadata": {},
     "output_type": "execute_result"
    }
   ],
   "source": [
    "0.1 + 0.1"
   ]
  },
  {
   "cell_type": "code",
   "execution_count": 19,
   "id": "ad8a7ef7-8111-4ae3-996a-37b1c187f608",
   "metadata": {},
   "outputs": [
    {
     "data": {
      "text/plain": [
       "1.0717734625362931"
      ]
     },
     "execution_count": 19,
     "metadata": {},
     "output_type": "execute_result"
    }
   ],
   "source": [
    "2 ** 0.1"
   ]
  },
  {
   "cell_type": "code",
   "execution_count": 20,
   "id": "989a3167-1da5-4a64-8cf7-9e812b44dfb4",
   "metadata": {},
   "outputs": [
    {
     "data": {
      "text/plain": [
       "0.30000000000000004"
      ]
     },
     "execution_count": 20,
     "metadata": {},
     "output_type": "execute_result"
    }
   ],
   "source": [
    "0.2 + 0.1 # Extra decimal places can be ignored for now"
   ]
  },
  {
   "cell_type": "markdown",
   "id": "c7bc7f24-410b-4c9e-acb7-dd84d5bed140",
   "metadata": {
    "jp-MarkdownHeadingCollapsed": true
   },
   "source": [
    "# Intergers and Floats"
   ]
  },
  {
   "cell_type": "markdown",
   "id": "df231a0d-2f3c-4ed4-b7fc-7e08c1ed0d7e",
   "metadata": {},
   "source": [
    "* Dividing any two numbers, both intergers or floats, leads to float\n",
    "* Otherwise, if any operation has a float, then answer will have a float too"
   ]
  },
  {
   "cell_type": "code",
   "execution_count": 21,
   "id": "b71a5c44-9e14-4b20-b1ca-8ceb759c685f",
   "metadata": {},
   "outputs": [
    {
     "data": {
      "text/plain": [
       "5.0"
      ]
     },
     "execution_count": 21,
     "metadata": {},
     "output_type": "execute_result"
    }
   ],
   "source": [
    "10/2"
   ]
  },
  {
   "cell_type": "code",
   "execution_count": 22,
   "id": "bf8ed6b4-873e-48d4-9b29-94786d15fc85",
   "metadata": {},
   "outputs": [
    {
     "data": {
      "text/plain": [
       "2.2"
      ]
     },
     "execution_count": 22,
     "metadata": {},
     "output_type": "execute_result"
    }
   ],
   "source": [
    "2 + 0.2"
   ]
  },
  {
   "cell_type": "code",
   "execution_count": 23,
   "id": "85cb5943-a31b-41a4-beaf-222d98700698",
   "metadata": {},
   "outputs": [
    {
     "data": {
      "text/plain": [
       "9.0"
      ]
     },
     "execution_count": 23,
     "metadata": {},
     "output_type": "execute_result"
    }
   ],
   "source": [
    "3.0 ** 2"
   ]
  },
  {
   "cell_type": "markdown",
   "id": "f11fb95b-df11-4b69-87c8-46c4f2ec5940",
   "metadata": {
    "jp-MarkdownHeadingCollapsed": true
   },
   "source": [
    "# Underscores in Numbers"
   ]
  },
  {
   "cell_type": "markdown",
   "id": "8a4a851b-07d1-4b3d-8749-2a6729100296",
   "metadata": {},
   "source": [
    "* In floats or intergers, underscore can be used to group numbers"
   ]
  },
  {
   "cell_type": "code",
   "execution_count": 24,
   "id": "8b59a4fc-e8ae-4fc5-905d-3f49866ff749",
   "metadata": {},
   "outputs": [
    {
     "name": "stdout",
     "output_type": "stream",
     "text": [
      "3374348\n"
     ]
    }
   ],
   "source": [
    "age = 3_374_348 \n",
    "print(age)"
   ]
  },
  {
   "cell_type": "markdown",
   "id": "f34f990b-95c2-4494-a103-b9000d9d9ee5",
   "metadata": {
    "jp-MarkdownHeadingCollapsed": true
   },
   "source": [
    "# Multiple Assignment"
   ]
  },
  {
   "cell_type": "markdown",
   "id": "f8d0de85-e719-4983-90e0-dc1ab479f790",
   "metadata": {},
   "source": [
    "* Multiple variables can be assigned a value in same line of code"
   ]
  },
  {
   "cell_type": "code",
   "execution_count": 25,
   "id": "9c92cefc-e62a-4928-b4cc-18e13ebdb9df",
   "metadata": {},
   "outputs": [
    {
     "name": "stdout",
     "output_type": "stream",
     "text": [
      "1\n",
      "2\n",
      "3\n"
     ]
    }
   ],
   "source": [
    "a, b, c = 1, 2, 3\n",
    "print(a)\n",
    "print(b)\n",
    "print(c)"
   ]
  },
  {
   "cell_type": "markdown",
   "id": "36d803aa-60d7-405d-9a8b-81f5721f2ea9",
   "metadata": {
    "jp-MarkdownHeadingCollapsed": true
   },
   "source": [
    "# Constants"
   ]
  },
  {
   "cell_type": "markdown",
   "id": "c10ad5d9-3818-4f9d-97a1-f8019b2e7cf4",
   "metadata": {},
   "source": [
    "* Indicate a variable whose value should never be changed\n",
    "* Indicated by capital letters"
   ]
  },
  {
   "cell_type": "code",
   "execution_count": 26,
   "id": "17b09a73-3bfc-433e-8647-be7dff3a0398",
   "metadata": {},
   "outputs": [],
   "source": [
    "STRIKE_PRICE = 4.50"
   ]
  },
  {
   "cell_type": "markdown",
   "id": "992ed237-2546-4425-b49f-084f4b1b4645",
   "metadata": {
    "jp-MarkdownHeadingCollapsed": true
   },
   "source": [
    "# TRY IT YOURSELF"
   ]
  },
  {
   "cell_type": "markdown",
   "id": "555e64d8-df41-42bb-9cb2-8adfc7ab6597",
   "metadata": {},
   "source": [
    "## 2.9\n",
    "Number Eight: Write addition, subtraction, multiplication, and division operations that each result in the number 8. Be sure to enclose your operations in print() cals to see the results. You should create four lines that look like this:\n",
    " print(5+3)\n",
    "Your output should be four lines, with the number 8 appearing once on each line."
   ]
  },
  {
   "cell_type": "code",
   "execution_count": 29,
   "id": "2c40e080-4586-4021-b580-f7ebd83e6295",
   "metadata": {},
   "outputs": [
    {
     "name": "stdout",
     "output_type": "stream",
     "text": [
      "8\n",
      "8\n",
      "8\n",
      "8.0\n"
     ]
    }
   ],
   "source": [
    "print(4+4)\n",
    "print(99-91)\n",
    "print(8*1)\n",
    "print(56/7)"
   ]
  },
  {
   "cell_type": "markdown",
   "id": "e515f0ef-2f13-4161-823b-1d89b43005a2",
   "metadata": {
    "jp-MarkdownHeadingCollapsed": true
   },
   "source": [
    "## 2-10\n",
    "Favorite Number: Use a variable to represent your favorite number. Then, using that variable, create a message that reveals your favorite number. Print that message"
   ]
  },
  {
   "cell_type": "code",
   "execution_count": 28,
   "id": "5677dd50-adf5-4a78-9df8-a26fbf909e30",
   "metadata": {},
   "outputs": [
    {
     "name": "stdout",
     "output_type": "stream",
     "text": [
      "My favourite number is 42\n"
     ]
    }
   ],
   "source": [
    "favourite_number = 42\n",
    "print(f\"My favourite number is {favourite_number}\")"
   ]
  }
 ],
 "metadata": {
  "kernelspec": {
   "display_name": "Python 3 (ipykernel)",
   "language": "python",
   "name": "python3"
  },
  "language_info": {
   "codemirror_mode": {
    "name": "ipython",
    "version": 3
   },
   "file_extension": ".py",
   "mimetype": "text/x-python",
   "name": "python",
   "nbconvert_exporter": "python",
   "pygments_lexer": "ipython3",
   "version": "3.13.5"
  }
 },
 "nbformat": 4,
 "nbformat_minor": 5
}
