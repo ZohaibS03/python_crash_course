{
 "cells": [
  {
   "cell_type": "markdown",
   "id": "a1ce3596-eb48-494d-bcbf-a2c884347592",
   "metadata": {},
   "source": [
    "TRY IT YOURSELF"
   ]
  },
  {
   "cell_type": "markdown",
   "id": "1b62f19e-2288-44fb-b52c-9af424716b5f",
   "metadata": {},
   "source": [
    "# 3-8. \n",
    "Seeing the World: Think of at least five places in the world you’d like to visit.\n",
    " Store the locations in a list. Make sure the list is not in alphabetical order.\n",
    " Print your list in its original order. Don’t worry about printing the list neatly; just print it as a raw Python\n",
    " list.\n",
    " Use sorted() to print your list in alphabetical order without modifying the actual list.\n",
    " Show that your list is stil in its original order by printing it.\n",
    " Use sorted() to print your list in reverse-alphabetical order without changing the order of the original\n",
    " list.\n",
    " Show that your list is stil in its original order by printing it again.\n",
    " Use reverse() to change the order of your list. Print the list to show that its order has changed.\n",
    " Use reverse() to change the order of your list again. Print the list to show it’s back to its original order.\n",
    " Use sort() to change your list so it’s stored in alphabetical order. Print the list to show that its order\n",
    " has been changed.\n",
    " Use sort() to change your list so it’s stored in reverse-alphabetical order. Print the list to show that its\n",
    " order has changed."
   ]
  },
  {
   "cell_type": "code",
   "execution_count": 10,
   "id": "48911e6f-a638-42b8-beb7-9f6830ce645d",
   "metadata": {},
   "outputs": [
    {
     "name": "stdout",
     "output_type": "stream",
     "text": [
      "Original list:['indai', 'pakistan', 'russia', 'japan', 'australia']\n",
      "Sorted(temp) list:['australia', 'indai', 'japan', 'pakistan', 'russia']\n",
      "Original list(unch.):['indai', 'pakistan', 'russia', 'japan', 'australia']\n",
      "Sorted(temp) list:['russia', 'pakistan', 'japan', 'indai', 'australia']\n",
      "Original list(unch.):['indai', 'pakistan', 'russia', 'japan', 'australia']\n",
      "Reverse list:['australia', 'japan', 'russia', 'pakistan', 'indai']\n",
      "Original list(ch.):['australia', 'japan', 'russia', 'pakistan', 'indai']\n",
      "Re-reverses list:['indai', 'pakistan', 'russia', 'japan', 'australia']\n",
      "Sorted list:['australia', 'indai', 'japan', 'pakistan', 'russia']\n",
      "Reverse Sorted list:['russia', 'pakistan', 'japan', 'indai', 'australia']\n"
     ]
    }
   ],
   "source": [
    "destinations = [\"indai\",\"pakistan\",\"russia\",\"japan\",\"australia\"]\n",
    "\n",
    "print(f\"Original list:{destinations}\")\n",
    "\n",
    "print(f\"Sorted(temp) list:{sorted(destinations)}\")\n",
    "\n",
    "print(f\"Original list(unch.):{destinations}\")\n",
    "\n",
    "print(f\"Sorted(temp) list:{sorted(destinations,reverse=True)}\")\n",
    "\n",
    "print(f\"Original list(unch.):{destinations}\")\n",
    "\n",
    "destinations.reverse()\n",
    "print(f\"Reverse list:{destinations}\")\n",
    "\n",
    "print(f\"Original list(ch.):{destinations}\")\n",
    "\n",
    "destinations.reverse()\n",
    "print(f\"Re-reverses list:{destinations}\")\n",
    "\n",
    "destinations.sort()\n",
    "print(f\"Sorted list:{destinations}\")\n",
    "\n",
    "destinations.sort(reverse=True)\n",
    "print(f\"Reverse Sorted list:{destinations}\")\n",
    "\n",
    "\n"
   ]
  },
  {
   "cell_type": "markdown",
   "id": "c8d7e908-b1f6-4a05-a599-ceb529363252",
   "metadata": {},
   "source": [
    "# 3-9\n",
    "Dinner Guests: Working with one of the programs from Exercises 3-4 through 3-7 (pages 41)\n",
    "42), use len() to print a message indicating the number of people you’re inviting to dinner"
   ]
  },
  {
   "cell_type": "code",
   "execution_count": 12,
   "id": "c3104c4a-f976-4562-a803-f8fb71d4b044",
   "metadata": {},
   "outputs": [
    {
     "name": "stdout",
     "output_type": "stream",
     "text": [
      "Hi Mark, Elon and Myself. I have just found a bigger table and will be inviting a few more people\n",
      "\n",
      "I am inviting to dinner:\n",
      "James\n",
      "Mark\n",
      "Harry\n",
      "Elon\n",
      "Myself\n",
      "Phoebe\n",
      "\n",
      "The number of people I'm inviting is:\n",
      " 6\n"
     ]
    }
   ],
   "source": [
    "people_invited = ['Mark','Elon','Myself']\n",
    "print(f\"Hi {people_invited[0]}, {people_invited[1]} and {people_invited[2]}. I have just found a bigger table and will be inviting a few more people\\n\")\n",
    "\n",
    "# Inserting element at the beginning of the list\n",
    "people_invited.insert(0,'James')\n",
    "\n",
    "# Inserting element in the middle of the list\n",
    "people_invited.insert(2,'Harry')\n",
    "\n",
    "# Appending element to the end of the list\n",
    "people_invited.append('Phoebe')\n",
    "\n",
    "print(f\"I am inviting to dinner:\\n{people_invited[0]}\\n{people_invited[1]}\\n{people_invited[2]}\\n{people_invited[3]}\\n{people_invited[4]}\\n{people_invited[5]}\\n\")\n",
    "\n",
    "print(f\"The number of people I'm inviting is:\\n {len(people_invited)}\")"
   ]
  },
  {
   "cell_type": "code",
   "execution_count": 17,
   "id": "d02e6ff9-8f3c-485a-b5a1-8cd9c7260d3e",
   "metadata": {},
   "outputs": [
    {
     "name": "stdout",
     "output_type": "stream",
     "text": [
      "['australia', 'indai', 'japan', 'pakistan', 'russia']\n",
      "['australia', 'indai', 'japan', 'pakistan', 'russia']\n",
      "['indai', 'pakistan', 'russia', 'japan', 'australia']\n",
      "['russia', 'pakistan', 'japan', 'indai', 'australia']\n",
      "The amount of countries in the list are:\n",
      "5\n"
     ]
    }
   ],
   "source": [
    "# .sort() method (permanent)\n",
    "countries = [\"indai\",\"pakistan\",\"russia\",\"japan\",\"australia\"]\n",
    "countries.sort()\n",
    "print(countries)\n",
    "countries.sort(reverse=True)\n",
    "\n",
    "\n",
    "# sorted() function (temporary)\n",
    "countries = [\"indai\",\"pakistan\",\"russia\",\"japan\",\"australia\"]\n",
    "print(sorted(countries))\n",
    "print(countries)\n",
    "print(sorted(countries,reverse=True))\n",
    "\n",
    "# len() of list\n",
    "print(f\"The amount of countries in the list are:\\n{len(countries)}\")"
   ]
  },
  {
   "cell_type": "code",
   "execution_count": null,
   "id": "e188c533-d08b-4d05-927c-4f15714a8856",
   "metadata": {},
   "outputs": [],
   "source": []
  }
 ],
 "metadata": {
  "kernelspec": {
   "display_name": "Python [conda env:base] *",
   "language": "python",
   "name": "conda-base-py"
  },
  "language_info": {
   "codemirror_mode": {
    "name": "ipython",
    "version": 3
   },
   "file_extension": ".py",
   "mimetype": "text/x-python",
   "name": "python",
   "nbconvert_exporter": "python",
   "pygments_lexer": "ipython3",
   "version": "3.13.5"
  }
 },
 "nbformat": 4,
 "nbformat_minor": 5
}
