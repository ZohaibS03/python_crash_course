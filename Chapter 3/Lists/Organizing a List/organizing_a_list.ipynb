{
 "cells": [
  {
   "cell_type": "markdown",
   "id": "887a6b35-c287-4676-85f7-8d31a051935c",
   "metadata": {},
   "source": [
    "Sorting a List Permanently with the sort() Method"
   ]
  },
  {
   "cell_type": "markdown",
   "id": "7daa53ed-6278-4360-ad27-458d906a82ec",
   "metadata": {},
   "source": [
    "* .sort() must be called first and then you can call list\n",
    "* reverse=true argument for reverse"
   ]
  },
  {
   "cell_type": "code",
   "execution_count": 2,
   "id": "652d8381-f5e8-46a1-b3fa-4736ea824920",
   "metadata": {},
   "outputs": [
    {
     "name": "stdout",
     "output_type": "stream",
     "text": [
      "['alex', 'bob', 'kevin', 'zohaib']\n"
     ]
    }
   ],
   "source": [
    "people = [\"zohaib\",\"alex\",\"bob\",\"kevin\"]\n",
    "people.sort() \n",
    "print(people)"
   ]
  },
  {
   "cell_type": "code",
   "execution_count": 3,
   "id": "fe73ecf4-3502-4ef8-8e0d-73fbfa0cdb5a",
   "metadata": {},
   "outputs": [
    {
     "name": "stdout",
     "output_type": "stream",
     "text": [
      "['zohaib', 'kevin', 'bob', 'alex']\n"
     ]
    }
   ],
   "source": [
    "people = [\"zohaib\",\"alex\",\"bob\",\"kevin\"]\n",
    "people.sort(reverse=True)\n",
    "print(people)"
   ]
  },
  {
   "cell_type": "markdown",
   "id": "b4734ebd-4cc7-4887-822b-ebfe9115db46",
   "metadata": {},
   "source": [
    "# Sorting a List Temporarily with the sorted() function"
   ]
  },
  {
   "cell_type": "markdown",
   "id": "4aadd03c-6d94-4ad8-96ef-69afa7ecba06",
   "metadata": {},
   "source": [
    "* Temporary so either needs to be assigned or called to a print statement\n",
    "* Has a reverse argument"
   ]
  },
  {
   "cell_type": "code",
   "execution_count": 6,
   "id": "143ede95-92c4-4fc0-9fd8-31eb8ff411fd",
   "metadata": {},
   "outputs": [
    {
     "name": "stdout",
     "output_type": "stream",
     "text": [
      "Original list:['zohaib', 'alex', 'bob', 'kevin']\n",
      "Temporarily sorted list:['alex', 'bob', 'kevin', 'zohaib']\n",
      "Temporarily sorted list in reverse order:['zohaib', 'kevin', 'bob', 'alex']\n",
      "Original list still unsorted:['zohaib', 'alex', 'bob', 'kevin']\n"
     ]
    }
   ],
   "source": [
    "people = [\"zohaib\",\"alex\",\"bob\",\"kevin\"]\n",
    "print(f\"Original list:{people}\")\n",
    "\n",
    "print(f\"Temporarily sorted list:{sorted(people)}\")\n",
    "\n",
    "print(f\"Temporarily sorted list in reverse order:{sorted(people,reverse=True)}\")\n",
    "\n",
    "print(f\"Original list still unsorted:{people}\")"
   ]
  },
  {
   "cell_type": "markdown",
   "id": "3d101df8-c142-4db5-a28e-8bee830c7df4",
   "metadata": {},
   "source": [
    "# Finding the Length of a List"
   ]
  },
  {
   "cell_type": "markdown",
   "id": "7c592069-893f-4aa6-8492-530ac5d10fac",
   "metadata": {},
   "source": [
    "* simply call using len(LIST)"
   ]
  },
  {
   "cell_type": "code",
   "execution_count": 8,
   "id": "f742c551-42b2-402e-9c88-1c47b79a90c5",
   "metadata": {},
   "outputs": [
    {
     "name": "stdout",
     "output_type": "stream",
     "text": [
      "There are 4 people :)\n"
     ]
    }
   ],
   "source": [
    "people = [\"zohaib\",\"alex\",\"bob\",\"kevin\"]\n",
    "print(f\"There are {len(people)} people :)\")"
   ]
  },
  {
   "cell_type": "code",
   "execution_count": null,
   "id": "76b259c6-7764-453e-b206-2613e56bf495",
   "metadata": {},
   "outputs": [],
   "source": []
  }
 ],
 "metadata": {
  "kernelspec": {
   "display_name": "Python [conda env:base] *",
   "language": "python",
   "name": "conda-base-py"
  },
  "language_info": {
   "codemirror_mode": {
    "name": "ipython",
    "version": 3
   },
   "file_extension": ".py",
   "mimetype": "text/x-python",
   "name": "python",
   "nbconvert_exporter": "python",
   "pygments_lexer": "ipython3",
   "version": "3.13.5"
  }
 },
 "nbformat": 4,
 "nbformat_minor": 5
}
