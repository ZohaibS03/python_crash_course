{
 "cells": [
  {
   "cell_type": "markdown",
   "id": "087a671d-e474-4e1d-aee3-a9e0a5f2ea8f",
   "metadata": {
    "jp-MarkdownHeadingCollapsed": true
   },
   "source": [
    "# What is a List?"
   ]
  },
  {
   "cell_type": "markdown",
   "id": "e91da8ff-a5c8-410d-915c-bc777efcaecd",
   "metadata": {},
   "source": [
    "* Collection of items in a particular order\n",
    "* Can include characters, strings or numbers\n",
    "* List contains multiple items so name should be plural"
   ]
  },
  {
   "cell_type": "code",
   "execution_count": 13,
   "id": "45388dc1-afc0-4cc8-8905-ba7f5e1db271",
   "metadata": {},
   "outputs": [
    {
     "name": "stdout",
     "output_type": "stream",
     "text": [
      "['Amazon', 'Tesla', 'Apple', 'Samsung', 'Unilever']\n"
     ]
    }
   ],
   "source": [
    "companies = ['Amazon', 'Tesla', 'Apple', 'Samsung', 'Unilever']\n",
    "print(companies) # Prints Python's representation of list"
   ]
  },
  {
   "cell_type": "markdown",
   "id": "7442733d-b5f8-4ad4-9629-a2e01c9a4bef",
   "metadata": {
    "jp-MarkdownHeadingCollapsed": true
   },
   "source": [
    "# Acessing Elements in a List"
   ]
  },
  {
   "cell_type": "markdown",
   "id": "4d62f245-a026-4cf2-88c1-a1894873ab6b",
   "metadata": {},
   "source": [
    "* Access any element in list by it's position/index"
   ]
  },
  {
   "cell_type": "code",
   "execution_count": 14,
   "id": "40894dfe-dbb7-4cd1-b4c5-070b1d50c63e",
   "metadata": {},
   "outputs": [
    {
     "name": "stdout",
     "output_type": "stream",
     "text": [
      "Amazon\n"
     ]
    }
   ],
   "source": [
    "print(companies[0])"
   ]
  },
  {
   "cell_type": "code",
   "execution_count": 15,
   "id": "a2dcf81b-151f-49cc-b582-51f4f4966797",
   "metadata": {},
   "outputs": [
    {
     "name": "stdout",
     "output_type": "stream",
     "text": [
      "AMAZON\n"
     ]
    }
   ],
   "source": [
    "print(companies[0].upper()) # String methods can be applied if element is a string"
   ]
  },
  {
   "cell_type": "code",
   "execution_count": 16,
   "id": "5deb982e-cfa3-4c7d-9383-60014951f69e",
   "metadata": {},
   "outputs": [
    {
     "name": "stdout",
     "output_type": "stream",
     "text": [
      "Unilever\n"
     ]
    }
   ],
   "source": [
    "print(companies[-1]) # -1 used to access last element in a list"
   ]
  },
  {
   "cell_type": "markdown",
   "id": "6e9ac94e-feed-4271-95b5-0e297e7dd8b9",
   "metadata": {
    "jp-MarkdownHeadingCollapsed": true
   },
   "source": [
    "# Using individual values in a List"
   ]
  },
  {
   "cell_type": "code",
   "execution_count": 17,
   "id": "e1c05d79-87d1-4199-aa64-d28c18903932",
   "metadata": {},
   "outputs": [
    {
     "name": "stdout",
     "output_type": "stream",
     "text": [
      "The most successfully company is Apple\n"
     ]
    }
   ],
   "source": [
    "print(f\"The most successfully company is {companies[2]}\")"
   ]
  },
  {
   "cell_type": "markdown",
   "id": "3708ebb2-17ac-4d49-aff2-5ac50cadcbec",
   "metadata": {
    "jp-MarkdownHeadingCollapsed": true
   },
   "source": [
    "# TRY IT YOURSELF"
   ]
  },
  {
   "cell_type": "markdown",
   "id": "720a9a13-3567-4217-890f-ce4da6dfa9e8",
   "metadata": {},
   "source": [
    "## 3-1\n",
    "Names: Store the names of a few of your friends in a list caled names. Print each person’s name by accessing each element in bthe list, one at a time."
   ]
  },
  {
   "cell_type": "code",
   "execution_count": 18,
   "id": "3f63a25f-414c-4524-a2c8-00d2b4c9cfa1",
   "metadata": {},
   "outputs": [
    {
     "name": "stdout",
     "output_type": "stream",
     "text": [
      "Phoenix\n",
      "Jett\n",
      "Sova\n",
      "Harbor\n"
     ]
    }
   ],
   "source": [
    "friends = [\"Phoenix\",\"Jett\",\"Sova\",\"Harbor\"]\n",
    "print(friends[0])\n",
    "print(friends[1])\n",
    "print(friends[2])\n",
    "print(friends[3])"
   ]
  },
  {
   "cell_type": "markdown",
   "id": "4f7a4ef3-2a49-4468-b19b-2bcb545de325",
   "metadata": {},
   "source": [
    "##  3-2\n",
    "Greetings: Start with the list you used in Exercise 3-1, but instead of just printing each person’s name, print a message to them. The text of each message should be the same, but each message should be personalized with the person’s name."
   ]
  },
  {
   "cell_type": "code",
   "execution_count": 19,
   "id": "4d2eeebf-a132-4b8e-9220-6a885ad012ab",
   "metadata": {},
   "outputs": [
    {
     "name": "stdout",
     "output_type": "stream",
     "text": [
      "Hello, Phoenix\n",
      "Hello, Jett\n",
      "Hello, Sova\n",
      "Hello, Harbor\n"
     ]
    }
   ],
   "source": [
    "print(f\"Hello, {friends[0]}\")\n",
    "print(f\"Hello, {friends[1]}\")\n",
    "print(f\"Hello, {friends[2]}\")\n",
    "print(f\"Hello, {friends[3]}\")"
   ]
  },
  {
   "cell_type": "markdown",
   "id": "c1e43c2f-5085-40cf-ba06-158d0372bd26",
   "metadata": {},
   "source": [
    "## 3-3\n",
    "Your Own List: Think of your favorite mode of transportation, such as a motorcycle or a car, and make a list that stores several examples. Use your list to print a series of statements about these items, such as “I would like to own a Honda motorcycle.”"
   ]
  },
  {
   "cell_type": "code",
   "execution_count": 20,
   "id": "3b9aaa45-9ca8-4831-ad4f-23b4329ca8c8",
   "metadata": {},
   "outputs": [
    {
     "name": "stdout",
     "output_type": "stream",
     "text": [
      "I would love to own a Tesla Car\n"
     ]
    }
   ],
   "source": [
    "modes_of_transportation = ['Motorcycle','Bicycle','Car','Bus']\n",
    "print(f\"I would love to own a {companies[1]} {modes_of_transportation[2]}\")"
   ]
  }
 ],
 "metadata": {
  "kernelspec": {
   "display_name": "Python 3 (ipykernel)",
   "language": "python",
   "name": "python3"
  },
  "language_info": {
   "codemirror_mode": {
    "name": "ipython",
    "version": 3
   },
   "file_extension": ".py",
   "mimetype": "text/x-python",
   "name": "python",
   "nbconvert_exporter": "python",
   "pygments_lexer": "ipython3",
   "version": "3.13.5"
  }
 },
 "nbformat": 4,
 "nbformat_minor": 5
}
