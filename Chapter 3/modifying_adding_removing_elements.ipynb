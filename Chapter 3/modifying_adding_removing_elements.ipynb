{
 "cells": [
  {
   "cell_type": "markdown",
   "id": "98cd976e-6ba5-4bff-a5a2-8d7ffe046bc9",
   "metadata": {},
   "source": [
    "# Modifying Elements in a List"
   ]
  },
  {
   "cell_type": "markdown",
   "id": "7458d847-a1bc-45f7-a2a7-56a1e8ad0081",
   "metadata": {},
   "source": [
    "* Syntax for modifying is same as accessing items in a lsit"
   ]
  },
  {
   "cell_type": "code",
   "execution_count": 1,
   "id": "23099fd6-3704-4977-8d76-017fed1d0425",
   "metadata": {},
   "outputs": [
    {
     "name": "stdout",
     "output_type": "stream",
     "text": [
      "['Tesla', 'Apple', 'Amazon', 'Unilever', 'Airbus']\n",
      "['Tesla', 'Apple', 'Amazon', 'Unilever', 'JP Morgan Chase']\n"
     ]
    }
   ],
   "source": [
    "companies = ['Tesla','Apple','Amazon','Unilever','Airbus']\n",
    "print(companies)\n",
    "\n",
    "# Modifying the last element in 'companies'\n",
    "companies[-1] = 'JP Morgan Chase'\n",
    "print(companies)"
   ]
  },
  {
   "cell_type": "markdown",
   "id": "a3813fbc-2570-4fb7-86f2-e37af320b10a",
   "metadata": {},
   "source": [
    "# Adding Elements to a List"
   ]
  },
  {
   "cell_type": "markdown",
   "id": "692a4ad6-5aad-405d-98eb-0a36d4563864",
   "metadata": {},
   "source": [
    "## Appending Elements to the End of a List"
   ]
  },
  {
   "cell_type": "markdown",
   "id": "43b203d5-e071-4688-9b83-98c875163c01",
   "metadata": {},
   "source": [
    "* .append('WHATEVER YOU WANT TO ADD')"
   ]
  },
  {
   "cell_type": "code",
   "execution_count": 2,
   "id": "f6785736-94e5-41da-91ec-fb22e2206596",
   "metadata": {},
   "outputs": [
    {
     "name": "stdout",
     "output_type": "stream",
     "text": [
      "['Tesla', 'Apple', 'Amazon', 'Unilever', 'JP Morgan Chase', 'Airbus']\n"
     ]
    }
   ],
   "source": [
    "companies.append('Airbus')\n",
    "print(companies)"
   ]
  },
  {
   "cell_type": "markdown",
   "id": "cb90f5e1-6ea6-47f1-afdf-7f3389d2727c",
   "metadata": {},
   "source": [
    "* Append can also be used to build from empty lists"
   ]
  },
  {
   "cell_type": "code",
   "execution_count": 3,
   "id": "a3972140-6283-48d2-bf19-44eaeea2e260",
   "metadata": {},
   "outputs": [
    {
     "name": "stdout",
     "output_type": "stream",
     "text": [
      "['KFC', 'Wendys', 'McDonalds']\n"
     ]
    }
   ],
   "source": [
    "favourite_takeaways = []\n",
    "favourite_takeaways.append('KFC')\n",
    "favourite_takeaways.append('Wendys')\n",
    "favourite_takeaways.append('McDonalds')\n",
    "print(favourite_takeaways)"
   ]
  },
  {
   "cell_type": "markdown",
   "id": "767f2fab-0df6-4ffe-accb-6bf815492651",
   "metadata": {},
   "source": [
    "## Inserting Elements into a List"
   ]
  },
  {
   "cell_type": "markdown",
   "id": "7c082cd6-6a78-4ad5-95b4-87ff4d53da2d",
   "metadata": {},
   "source": [
    "* To insert, you must specify the index of insertion and the value to be inserted\n",
    "    * list_name.insert(index,'value')"
   ]
  },
  {
   "cell_type": "code",
   "execution_count": 4,
   "id": "7fefde6b-777c-4c04-9e07-f5fa5ba99a4b",
   "metadata": {},
   "outputs": [
    {
     "name": "stdout",
     "output_type": "stream",
     "text": [
      "['Five Guys', 'KFC', 'Wendys', 'McDonalds']\n"
     ]
    }
   ],
   "source": [
    "favourite_takeaways.insert(0,'Five Guys')\n",
    "print(favourite_takeaways)"
   ]
  },
  {
   "cell_type": "markdown",
   "id": "6df8865b-37f1-46c8-aba7-39a4a766b502",
   "metadata": {},
   "source": [
    "# Removing Elements from a List"
   ]
  },
  {
   "cell_type": "markdown",
   "id": "30412f20-2c9b-4e64-8bfa-6c7d7eb62b91",
   "metadata": {},
   "source": [
    "* If element doesn't need to be used, use del\n",
    "* If element does need to be used, use .pop()"
   ]
  },
  {
   "cell_type": "markdown",
   "id": "f332ba07-087d-4992-9d57-e6d4473a1f99",
   "metadata": {},
   "source": [
    "## Removing an Item Using the del Statement"
   ]
  },
  {
   "cell_type": "markdown",
   "id": "b63b8ea3-02be-4ed8-a263-b08af2521d81",
   "metadata": {},
   "source": [
    "* Index of value to be removed must be known"
   ]
  },
  {
   "cell_type": "code",
   "execution_count": 7,
   "id": "860852fa-9b38-4531-a007-34cdfca0e81a",
   "metadata": {},
   "outputs": [
    {
     "name": "stdout",
     "output_type": "stream",
     "text": [
      "['Tesla', 'Apple', 'Amazon', 'Unilever', 'Airbus']\n",
      "['Tesla', 'Amazon', 'Unilever', 'Airbus']\n"
     ]
    }
   ],
   "source": [
    "companies = ['Tesla','Apple','Amazon','Unilever','Airbus']\n",
    "print(companies)\n",
    "\n",
    "# Removes the 2nd element\n",
    "del companies[1]\n",
    "\n",
    "print(companies)"
   ]
  },
  {
   "cell_type": "markdown",
   "id": "9f99498f-146b-45ea-8d97-58ff0392c69c",
   "metadata": {},
   "source": [
    "## Removing Elements using Pop"
   ]
  },
  {
   "cell_type": "markdown",
   "id": "a60bbc56-00b0-44a6-aa86-354832b1396c",
   "metadata": {},
   "source": [
    "* Using .pop() without any index removes last item in the list\n",
    "* Popped variable can be assigned to another variable if necessary"
   ]
  },
  {
   "cell_type": "code",
   "execution_count": 10,
   "id": "4d6393f4-36a4-4158-974d-dbd62fcdaa06",
   "metadata": {},
   "outputs": [
    {
     "name": "stdout",
     "output_type": "stream",
     "text": [
      "['Tesla', 'Apple', 'Amazon', 'Unilever', 'Airbus']\n",
      "['Tesla', 'Apple', 'Amazon', 'Unilever']\n",
      "Airbus\n",
      "Amazon\n"
     ]
    }
   ],
   "source": [
    "companies = ['Tesla','Apple','Amazon','Unilever','Airbus']\n",
    "print(companies)\n",
    "\n",
    "# .pop() to remove last element\n",
    "last_company = companies.pop()\n",
    "print(companies)\n",
    "print(last_company)\n",
    "\n",
    "# .pop() to remove specific index element\n",
    "third_company = companies.pop(2)\n",
    "print(third_company)"
   ]
  },
  {
   "cell_type": "markdown",
   "id": "62344c27-557f-471a-a09e-9ff0a958e6a9",
   "metadata": {},
   "source": [
    "## Removing Elements using their value"
   ]
  },
  {
   "cell_type": "markdown",
   "id": "f5860a45-c29c-46d6-8b48-38f811ff5199",
   "metadata": {},
   "source": [
    "* Only removes the first occurence of that value. Loops need to be used if you want to ensure all values are removed"
   ]
  },
  {
   "cell_type": "code",
   "execution_count": 14,
   "id": "55369bf9-e10c-4eb4-8d87-1ca3ab0f4691",
   "metadata": {},
   "outputs": [
    {
     "name": "stdout",
     "output_type": "stream",
     "text": [
      "I removed Unilever just becase\n"
     ]
    }
   ],
   "source": [
    "companies = ['Tesla','Apple','Amazon','Unilever','Airbus']\n",
    "removed_company = 'Unilever'\n",
    "companies.remove('Unilever')\n",
    "\n",
    "print(f\"I removed {removed_company} just becase\")"
   ]
  },
  {
   "cell_type": "markdown",
   "id": "31317f41-5522-457f-b0cb-692ba20bd361",
   "metadata": {},
   "source": [
    "# TRY IT YOURSELF"
   ]
  },
  {
   "cell_type": "markdown",
   "id": "5170071f-cc8e-43e6-9c9f-decac82bf284",
   "metadata": {},
   "source": [
    "## 3-4\n",
    "Guest List: If you could invite anyone, living or deceased, to dinner, who would you invite? Make a list that includes at least three people you’d like to invite to dinner. Then use your list to print a message to each person, inviting them to dinner."
   ]
  },
  {
   "cell_type": "code",
   "execution_count": 17,
   "id": "cfbe0508-7462-4863-8211-3a5d5308decb",
   "metadata": {},
   "outputs": [
    {
     "name": "stdout",
     "output_type": "stream",
     "text": [
      "I am inviting:\n",
      "Mark\n",
      "Elon\n",
      "Myself\n"
     ]
    }
   ],
   "source": [
    "people_invited = ['Mark','Elon','Myself']\n",
    "print(f\"I am inviting to dinner:\\n{people_invited[0]}\\n{people_invited[1]}\\n{people_invited[2]}\")"
   ]
  },
  {
   "cell_type": "markdown",
   "id": "fc120065-f7e0-4b61-8eae-86ac2e8e1df9",
   "metadata": {},
   "source": [
    "##  3-5\n",
    "Changing Guest List: You just heard that one of your guests can’t make the dinner, so you need to send out a new set of invitations. You’ll have to think of someone else to invite.\n",
    " Start with your program from Exercise 3-4. Add a print() cal at the end of your program, stating the name of the guest who can’t make it.\n",
    " Modify your list, replacing the name of the guest who can’t make it with the name of the new person you are inviting.\n",
    " Print a second set of invitation messages, one for each person who is stil in your list."
   ]
  },
  {
   "cell_type": "code",
   "execution_count": 22,
   "id": "280e8a6e-5eb4-43ee-860b-208be612a91f",
   "metadata": {},
   "outputs": [
    {
     "name": "stdout",
     "output_type": "stream",
     "text": [
      "I am inviting to dinner:\n",
      "Mark\n",
      "Elon\n",
      "Myself\n",
      "\n",
      "Elon can't make it. I will have to invite Steve instead\n",
      "\n",
      "I am inviting to dinner:\n",
      "Mark\n",
      "Steve\n",
      "Myself\n",
      "\n"
     ]
    }
   ],
   "source": [
    "people_invited = ['Mark','Elon','Myself']\n",
    "print(f\"I am inviting to dinner:\\n{people_invited[0]}\\n{people_invited[1]}\\n{people_invited[2]}\\n\")\n",
    "\n",
    "new_guest = 'Steve'\n",
    "print(f\"{people_invited[1]} can't make it. I will have to invite {new_guest} instead\\n\")\n",
    "\n",
    "# Replacing the second list element\n",
    "people_invited[1] = new_guest\n",
    "\n",
    "print(f\"I am inviting to dinner:\\n{people_invited[0]}\\n{people_invited[1]}\\n{people_invited[2]}\\n\")"
   ]
  },
  {
   "cell_type": "markdown",
   "id": "3ba2e81d-23fc-41cb-be1f-09c0c2f23067",
   "metadata": {},
   "source": [
    "##  3-6\n",
    "More Guests: You just found a bigger dinner table, so now more space is available. Think of three more guests to invite to dinner.\n",
    "Start with your program from Exercise 3-4 or 3-5. Add a print() cal to the end of your program, informing people that you found a bigger table.\n",
    " Use insert() to add one new guest to the beginning of your list.\n",
    " Use insert() to add one new guest to the middle of your list.\n",
    " Use append() to add one new guest to the end of your list.\n",
    " Print a new set of invitation messages, one for each person in your list."
   ]
  },
  {
   "cell_type": "code",
   "execution_count": 33,
   "id": "5660fa94-427d-4d36-a2b8-0ffc2e6d5f09",
   "metadata": {},
   "outputs": [
    {
     "name": "stdout",
     "output_type": "stream",
     "text": [
      "Hi Mark, Elon and Myself. I have just found a bigger table and will be inviting a few more people\n",
      "\n",
      "I am inviting to dinner:\n",
      "James\n",
      "Mark\n",
      "Harry\n",
      "Elon\n",
      "Myself\n",
      "Phoebe\n",
      "\n"
     ]
    }
   ],
   "source": [
    "people_invited = ['Mark','Elon','Myself']\n",
    "print(f\"Hi {people_invited[0]}, {people_invited[1]} and {people_invited[2]}. I have just found a bigger table and will be inviting a few more people\\n\")\n",
    "\n",
    "# Inserting element at the beginning of the list\n",
    "people_invited.insert(0,'James')\n",
    "\n",
    "# Inserting element in the middle of the list\n",
    "people_invited.insert(2,'Harry')\n",
    "\n",
    "# Appending element to the end of the list\n",
    "people_invited.append('Phoebe')\n",
    "\n",
    "print(f\"I am inviting to dinner:\\n{people_invited[0]}\\n{people_invited[1]}\\n{people_invited[2]}\\n{people_invited[3]}\\n{people_invited[4]}\\n{people_invited[5]}\\n\")"
   ]
  },
  {
   "cell_type": "markdown",
   "id": "bc9349e7-0a40-4226-99ae-133b5865c209",
   "metadata": {},
   "source": [
    "## 3-7\n",
    "Shrinking Guest List: You just found out that your new dinner table won’t arrive in time for the dinner, and now you have space for only two guests.\n",
    " Start with your program from Exercise 3-6. Add a new line that prints a message saying that you can invite only two people for dinner.\n",
    " Use pop() to remove guests from your list one at a time until only two names remain in your list. Each time you pop a name from your list, print a message to that person letting them know you’re sorry you can’t invite them to dinner.\n",
    " Print a message to each of the two people stil on your list, letting them know they’re stil invited.\n",
    " Use del to remove the last two names from your list, so you have an empty list. Print your list to make sure you actualy have an empty list at the end of your program"
   ]
  },
  {
   "cell_type": "code",
   "execution_count": 41,
   "id": "80d48dda-2796-48d9-a4d2-7389b2e8e003",
   "metadata": {},
   "outputs": [
    {
     "name": "stdout",
     "output_type": "stream",
     "text": [
      "Hi Mark, Elon and Myself. I have just found a bigger table and will be inviting a few more people\n",
      "\n",
      "I am inviting to dinner:\n",
      "James\n",
      "Mark\n",
      "Harry\n",
      "Elon\n",
      "Myself\n",
      "Phoebe\n",
      "\n",
      "Sorry Phoebe, you're out\n",
      "Sorry Myself, you're out\n",
      "Sorry Elon, you're out\n",
      "Sorry Harry, you're out\n",
      "You guys are still good to come:\n",
      "James\n",
      "Mark\n",
      "\n",
      "['James', 'Mark']\n"
     ]
    },
    {
     "ename": "IndexError",
     "evalue": "list assignment index out of range",
     "output_type": "error",
     "traceback": [
      "\u001b[1;31m---------------------------------------------------------------------------\u001b[0m",
      "\u001b[1;31mIndexError\u001b[0m                                Traceback (most recent call last)",
      "Cell \u001b[1;32mIn[41], line 31\u001b[0m\n\u001b[0;32m     28\u001b[0m \u001b[38;5;28mprint\u001b[39m(people_invited)\n\u001b[0;32m     30\u001b[0m \u001b[38;5;28;01mdel\u001b[39;00m people_invited[\u001b[38;5;241m0\u001b[39m]\n\u001b[1;32m---> 31\u001b[0m \u001b[38;5;28;01mdel\u001b[39;00m people_invited[\u001b[38;5;241m1\u001b[39m]\n\u001b[0;32m     32\u001b[0m \u001b[38;5;28mprint\u001b[39m(people_invited)\n",
      "\u001b[1;31mIndexError\u001b[0m: list assignment index out of range"
     ]
    }
   ],
   "source": [
    "people_invited = ['Mark','Elon','Myself']\n",
    "print(f\"Hi {people_invited[0]}, {people_invited[1]} and {people_invited[2]}. I have just found a bigger table and will be inviting a few more people\\n\")\n",
    "\n",
    "# Inserting element at the beginning of the list\n",
    "people_invited.insert(0,'James')\n",
    "\n",
    "# Inserting element in the middle of the list\n",
    "people_invited.insert(2,'Harry')\n",
    "\n",
    "# Appending element to the end of the list\n",
    "people_invited.append('Phoebe')\n",
    "\n",
    "print(f\"I am inviting to dinner:\\n{people_invited[0]}\\n{people_invited[1]}\\n{people_invited[2]}\\n{people_invited[3]}\\n{people_invited[4]}\\n{people_invited[5]}\\n\")\n",
    "\n",
    "person_removed = people_invited.pop(5)\n",
    "print(f\"Sorry {person_removed}, you're out\")\n",
    "\n",
    "person_removed = people_invited.pop(4)\n",
    "print(f\"Sorry {person_removed}, you're out\")\n",
    "\n",
    "person_removed = people_invited.pop(3)\n",
    "print(f\"Sorry {person_removed}, you're out\")\n",
    "\n",
    "person_removed = people_invited.pop(2)\n",
    "print(f\"Sorry {person_removed}, you're out\")\n",
    "\n",
    "print(f\"You guys are still good to come:\\n{people_invited[0]}\\n{people_invited[1]}\\n\")\n",
    "print(people_invited)\n",
    "\n",
    "del people_invited[0]\n",
    "del people_invited[1]\n",
    "print(people_invited)"
   ]
  },
  {
   "cell_type": "code",
   "execution_count": null,
   "id": "0586d16e-adca-4edf-b7e7-d3c0d116d50b",
   "metadata": {},
   "outputs": [],
   "source": []
  }
 ],
 "metadata": {
  "kernelspec": {
   "display_name": "Python 3 (ipykernel)",
   "language": "python",
   "name": "python3"
  },
  "language_info": {
   "codemirror_mode": {
    "name": "ipython",
    "version": 3
   },
   "file_extension": ".py",
   "mimetype": "text/x-python",
   "name": "python",
   "nbconvert_exporter": "python",
   "pygments_lexer": "ipython3",
   "version": "3.13.5"
  }
 },
 "nbformat": 4,
 "nbformat_minor": 5
}
