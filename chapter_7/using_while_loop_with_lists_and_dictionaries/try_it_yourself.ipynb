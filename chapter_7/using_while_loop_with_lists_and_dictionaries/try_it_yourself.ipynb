{
 "cells": [
  {
   "cell_type": "markdown",
   "id": "50f87990",
   "metadata": {},
   "source": [
    "# 7-8\n",
    "Moving items from one list to another, while removing from original list. During removal loop, print and also print after loop has exited"
   ]
  },
  {
   "cell_type": "code",
   "execution_count": 3,
   "id": "70935c14",
   "metadata": {},
   "outputs": [
    {
     "name": "stdout",
     "output_type": "stream",
     "text": [
      "I have prepared your chicken sandwich.\n",
      "I have prepared your beef sandwich.\n",
      "I have prepared your tuna sandwich.\n",
      "\n",
      "I have made the following sandwiches:\n",
      "chicken\n",
      "beef\n",
      "tuna\n"
     ]
    }
   ],
   "source": [
    "sandwich_orders = ['tuna', 'beef', 'chicken']\n",
    "finished_sandwiches = []\n",
    "\n",
    "while sandwich_orders:\n",
    "    current_order = sandwich_orders.pop()\n",
    "    finished_sandwiches.append(current_order)\n",
    "    print(f'I have prepared your {current_order} sandwich.')\n",
    "\n",
    "print('\\nI have made the following sandwiches:')\n",
    "for sandwich in finished_sandwiches:\n",
    "    print(sandwich)"
   ]
  },
  {
   "cell_type": "markdown",
   "id": "4c783bf1",
   "metadata": {},
   "source": [
    "# 7-9\n",
    "Use a while loop to remove a certain iteam from a list"
   ]
  },
  {
   "cell_type": "code",
   "execution_count": 5,
   "id": "f449ac86",
   "metadata": {},
   "outputs": [
    {
     "name": "stdout",
     "output_type": "stream",
     "text": [
      "Final sandwich order list:\n",
      "tuna\n",
      "beef\n",
      "chicken\n",
      "boloney\n"
     ]
    }
   ],
   "source": [
    "sandwich_orders = ['pastrami', 'tuna', 'beef', 'chicken', 'pastrami', 'boloney', 'pastrami']\n",
    "\n",
    "while 'pastrami' in sandwich_orders:\n",
    "    sandwich_orders.remove('pastrami')\n",
    "\n",
    "print(f\"Final sandwich order list:\")\n",
    "for sandwich in sandwich_orders:\n",
    "    print(sandwich)"
   ]
  },
  {
   "cell_type": "markdown",
   "id": "45c0cfc1",
   "metadata": {},
   "source": [
    "# 7-10\n",
    "Input loop that works off of a flag"
   ]
  },
  {
   "cell_type": "code",
   "execution_count": 2,
   "id": "e64692b6",
   "metadata": {},
   "outputs": [
    {
     "name": "stdout",
     "output_type": "stream",
     "text": [
      "------POLL RESULTS-------\n",
      "PAKISTAN\n",
      "UK\n",
      "INDIA\n"
     ]
    }
   ],
   "source": [
    "active = True\n",
    "\n",
    "vacations = []\n",
    "\n",
    "while active:\n",
    "    vacation = input('Enter dream vacation:\\n')\n",
    "    if vacation == 'quit':\n",
    "        active = False\n",
    "    else:\n",
    "        vacations.append(vacation)\n",
    "\n",
    "print('------POLL RESULTS-------')\n",
    "for vacation in vacations:\n",
    "    print(vacation.upper())\n",
    "\n"
   ]
  }
 ],
 "metadata": {
  "kernelspec": {
   "display_name": "Python 3",
   "language": "python",
   "name": "python3"
  },
  "language_info": {
   "codemirror_mode": {
    "name": "ipython",
    "version": 3
   },
   "file_extension": ".py",
   "mimetype": "text/x-python",
   "name": "python",
   "nbconvert_exporter": "python",
   "pygments_lexer": "ipython3",
   "version": "3.11.9"
  }
 },
 "nbformat": 4,
 "nbformat_minor": 5
}
