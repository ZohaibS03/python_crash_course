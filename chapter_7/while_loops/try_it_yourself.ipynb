{
 "cells": [
  {
   "cell_type": "markdown",
   "id": "a754aeef",
   "metadata": {},
   "source": [
    "# 7-4\n",
    "While loop that asks for and prints user input until quit is entered"
   ]
  },
  {
   "cell_type": "code",
   "execution_count": null,
   "id": "ec1a9c25",
   "metadata": {},
   "outputs": [],
   "source": [
    "active = True\n",
    "\n",
    "while active:\n",
    "    topping = input('Hi, What topping would you like: ')\n",
    "    if topping.lower() == 'quit':\n",
    "        break\n",
    "    else:\n",
    "        print(f'I will add {topping} to your oder')\n"
   ]
  },
  {
   "cell_type": "markdown",
   "id": "582b214d",
   "metadata": {},
   "source": [
    "# 7-5\n",
    "Output based on different conditional checks`"
   ]
  },
  {
   "cell_type": "code",
   "execution_count": 1,
   "id": "d665f912",
   "metadata": {},
   "outputs": [
    {
     "name": "stdout",
     "output_type": "stream",
     "text": [
      "Your ticket is $15\n"
     ]
    }
   ],
   "source": [
    "age = int(input('Hi, please enter your age: '))\n",
    "\n",
    "if age < 3:\n",
    "    print('Your ticket is $3')\n",
    "if (age > 3 and age < 12):\n",
    "    print('Your ticket is $10')\n",
    "else:\n",
    "    print('Your ticket is $15')"
   ]
  },
  {
   "cell_type": "markdown",
   "id": "637f0c45",
   "metadata": {},
   "source": [
    "# 7-6\n",
    "Use conditional test in while loop, use a flag and use a break to quit loops "
   ]
  },
  {
   "cell_type": "markdown",
   "id": "70635c47",
   "metadata": {},
   "source": [
    "## Coniditonal test \n"
   ]
  },
  {
   "cell_type": "code",
   "execution_count": 6,
   "id": "3eed8b1b",
   "metadata": {},
   "outputs": [],
   "source": [
    "age = ''\n",
    "while age != 'quit':\n",
    "    age = input('Hi, please enter your age: ')\n",
    "    if age.lower() == 'quit':\n",
    "        continue\n",
    "    elif int(age) < 3:\n",
    "        print('Your ticket is $3')\n",
    "    elif (int(age) > 3 and int(age) < 12):\n",
    "        print('Your ticket is $10')\n",
    "    else:\n",
    "        print('Your ticket is $15')\n"
   ]
  },
  {
   "cell_type": "code",
   "execution_count": null,
   "id": "f2e02c4a",
   "metadata": {},
   "outputs": [],
   "source": []
  }
 ],
 "metadata": {
  "kernelspec": {
   "display_name": "base",
   "language": "python",
   "name": "python3"
  },
  "language_info": {
   "codemirror_mode": {
    "name": "ipython",
    "version": 3
   },
   "file_extension": ".py",
   "mimetype": "text/x-python",
   "name": "python",
   "nbconvert_exporter": "python",
   "pygments_lexer": "ipython3",
   "version": "3.13.5"
  }
 },
 "nbformat": 4,
 "nbformat_minor": 5
}
