{
 "cells": [
  {
   "cell_type": "markdown",
   "id": "cd7030d3",
   "metadata": {},
   "source": [
    "# 7-1\n",
    "Asking for input, then printing message about that input"
   ]
  },
  {
   "cell_type": "code",
   "execution_count": 1,
   "id": "068d000a",
   "metadata": {},
   "outputs": [
    {
     "name": "stdout",
     "output_type": "stream",
     "text": [
      "A BMW is a superb choice!\n"
     ]
    }
   ],
   "source": [
    "rental_car = input('Hi, what car would you like?')\n",
    "print(f'A {rental_car} is a superb choice!')"
   ]
  },
  {
   "cell_type": "markdown",
   "id": "57a915bb",
   "metadata": {},
   "source": [
    "# 7-2\n",
    "\n",
    "Asking for interger input then performing a conditional statement on it. "
   ]
  },
  {
   "cell_type": "code",
   "execution_count": 3,
   "id": "10756eb4",
   "metadata": {},
   "outputs": [
    {
     "name": "stdout",
     "output_type": "stream",
     "text": [
      "We can accomodate a table of 2 now!\n"
     ]
    }
   ],
   "source": [
    "people = int(input('How many people would you like to bring: '))\n",
    "if people > 8:\n",
    "    print(f\"I'm sorry, as you have {people} poeple; you will have to wait\")\n",
    "else:\n",
    "    print(f\"We can accomodate a table of {people} now!\")"
   ]
  },
  {
   "cell_type": "markdown",
   "id": "fef5742b",
   "metadata": {},
   "source": [
    "# 7 -3\n",
    "\n",
    "Checking if a number is a multiple of another number or not. \n",
    "\n",
    "How I am solving this:\n",
    "Using the modulo operator, if a remainder is left then number is not a multiple but if there is no remaineder then it's a multiple of 10."
   ]
  },
  {
   "cell_type": "code",
   "execution_count": null,
   "id": "2520e6fd",
   "metadata": {},
   "outputs": [
    {
     "name": "stdout",
     "output_type": "stream",
     "text": [
      "300 is a multiple of 10!\n"
     ]
    }
   ],
   "source": [
    "number = int(input(\"Enter a number and I will let you know if it is a multiple\"\n",
    "    \"of ten or not\"))\n",
    "\n",
    "# Using modulo operator to see if number leav\n",
    "if (number % 10) == 0:\n",
    "    print(f'{number} is a multiple of 10!')\n",
    "else:\n",
    "    print(f'{number} is not a multiple of 10') \n"
   ]
  },
  {
   "cell_type": "code",
   "execution_count": null,
   "id": "50438a6d",
   "metadata": {},
   "outputs": [],
   "source": []
  },
  {
   "cell_type": "code",
   "execution_count": null,
   "id": "deed921c",
   "metadata": {},
   "outputs": [],
   "source": []
  }
 ],
 "metadata": {
  "kernelspec": {
   "display_name": "base",
   "language": "python",
   "name": "python3"
  },
  "language_info": {
   "codemirror_mode": {
    "name": "ipython",
    "version": 3
   },
   "file_extension": ".py",
   "mimetype": "text/x-python",
   "name": "python",
   "nbconvert_exporter": "python",
   "pygments_lexer": "ipython3",
   "version": "3.13.5"
  }
 },
 "nbformat": 4,
 "nbformat_minor": 5
}
