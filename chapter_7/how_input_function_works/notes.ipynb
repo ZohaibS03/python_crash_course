{
 "cells": [
  {
   "cell_type": "markdown",
   "id": "c3ee49b9",
   "metadata": {},
   "source": [
    "# Creating multiline prompt for input\n",
    "Stored the prompt for an input in its own variable can allow you to output a \n",
    "longer prompt quiet neatly.\n",
    "\n",
    "Example:"
   ]
  },
  {
   "cell_type": "code",
   "execution_count": null,
   "id": "070c5632",
   "metadata": {},
   "outputs": [
    {
     "name": "stdout",
     "output_type": "stream",
     "text": [
      "You are 9 years old. You are not allowed to vote!\n"
     ]
    }
   ],
   "source": [
    "# Concatenates a multi-line prompt string\n",
    "prompt = 'If you share your age, we can decide if you are allowed to vote'\n",
    "prompt += '\\nWhat is your age: '\n",
    "\n",
    "# Asks for input, using mult-line prompt. Stores varaible as an interger\n",
    "age = int(input(prompt))\n",
    "\n",
    "if age >= 18:\n",
    "    print(f'You are {age} years old. You are allowed to vote!')\n",
    "else:\n",
    "    print(f'You are {age} years old. You are not allowed to vote!')"
   ]
  },
  {
   "cell_type": "code",
   "execution_count": null,
   "id": "59bfbbf9",
   "metadata": {},
   "outputs": [],
   "source": []
  }
 ],
 "metadata": {
  "kernelspec": {
   "display_name": "base",
   "language": "python",
   "name": "python3"
  },
  "language_info": {
   "codemirror_mode": {
    "name": "ipython",
    "version": 3
   },
   "file_extension": ".py",
   "mimetype": "text/x-python",
   "name": "python",
   "nbconvert_exporter": "python",
   "pygments_lexer": "ipython3",
   "version": "3.13.5"
  }
 },
 "nbformat": 4,
 "nbformat_minor": 5
}
