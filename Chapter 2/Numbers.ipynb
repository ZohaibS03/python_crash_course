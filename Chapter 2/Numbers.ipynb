{
 "cells": [
  {
   "cell_type": "markdown",
   "id": "fca05dd3-9e34-4182-8575-5ea9245b9ea6",
   "metadata": {},
   "source": [
    "# Intergers\n",
    "* Can perform mathematical operations on them\n",
    "* Two ** represent exponents\n",
    "* Python supports order of operations. You can use brackets to modify order of operations"
   ]
  }
 ],
 "metadata": {
  "kernelspec": {
   "display_name": "Python [conda env:base] *",
   "language": "python",
   "name": "conda-base-py"
  },
  "language_info": {
   "codemirror_mode": {
    "name": "ipython",
    "version": 3
   },
   "file_extension": ".py",
   "mimetype": "text/x-python",
   "name": "python",
   "nbconvert_exporter": "python",
   "pygments_lexer": "ipython3",
   "version": "3.13.5"
  }
 },
 "nbformat": 4,
 "nbformat_minor": 5
}
